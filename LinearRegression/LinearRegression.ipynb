{
 "cells": [
  {
   "cell_type": "code",
   "execution_count": null,
   "metadata": {},
   "outputs": [],
   "source": [
    "import pandas as pd\n",
    "import numpy as np\n",
    "import seaborn as sns\n",
    "import matplotlib\n",
    "import numpy\n",
    "import matplotlib.pyplot as plt\n",
    "from scipy.stats import skew\n",
    "from scipy.stats.stats import pearsonr\n",
    "\n",
    "\n",
    "%config InlineBackend.figure_format = 'retina' #set 'png' here when working on notebook\n",
    "%matplotlib inline"
   ]
  },
  {
   "cell_type": "code",
   "execution_count": null,
   "metadata": {},
   "outputs": [],
   "source": [
    "def null_values(df):\n",
    "    \n",
    "    sum_null = df.isnull().sum()\n",
    "    total = df.isnull().count()\n",
    "    percent_nullvalues = 100* sum_null / total \n",
    "    df_null = pd.DataFrame()\n",
    "    df_null['Total'] = total\n",
    "    df_null['Null_Count'] = sum_null\n",
    "    df_null['Percent'] = round(percent_nullvalues,2)\n",
    "    df_null = df_null.sort_values(by='Null_Count',ascending = False)\n",
    "    df_null = df_null[df_null.Null_Count > 0]\n",
    "    \n",
    "    return(df_null)\n",
    "\n",
    "def normailize_df(refDf, train):\n",
    "    df = refDf.copy()\n",
    "    df['año'] = df['fecha'].dt.year\n",
    "    df['antiguedad'] = df['antiguedad'] + (2016 - df['año']) # Se normaliza la antiguedad.\n",
    "    \n",
    "    nulltotales = df[df['metrostotales'].isnull()]\n",
    "    nullcubiertos = df[df['metroscubiertos'].isnull()]\n",
    "    notnullapart = df[(~ df['metrostotales'].isnull()) & (df['metrostotales'] < df['metroscubiertos'])]\n",
    "    notnullapart2 = df[(~ df['metrostotales'].isnull()) & (df['metrostotales'] > df['metroscubiertos'])]\n",
    "    notnullapart3 = df[(~ df['metrostotales'].isnull()) & (df['metrostotales'] == df['metroscubiertos'])]\n",
    " \n",
    "    df['habitable'] = False\n",
    "    tipodepropiedades = df.tipodepropiedad.cat.categories.to_list()\n",
    "    for tipodepropiedad in tipodepropiedades: \n",
    "\n",
    "        idsNullMetrosTotales = (df.tipodepropiedad == tipodepropiedad) & (df.metrostotales.isnull())\n",
    "        idsNullMetrosCubiertos = (df.tipodepropiedad == tipodepropiedad) & (df.metroscubiertos.isnull())\n",
    "        banos = df[df.tipodepropiedad == tipodepropiedad].banos.mode(dropna=False);\n",
    "        habitaciones = df[df.tipodepropiedad == tipodepropiedad].habitaciones.mode(dropna=False);\n",
    "\n",
    "        ## Verificamos si la cantidad de registros con metros cubiertos nulos es mayor a 2/5 de los totales. Si es asi \n",
    "        ## los consideramos propiedades no habitables. Y los tratamos de manera diferente\n",
    "        if(len(nullcubiertos[nullcubiertos.tipodepropiedad == tipodepropiedad]) >= 2/5* len(df[df.tipodepropiedad == tipodepropiedad])):\n",
    "            df.metrostotales.fillna(0, inplace=True)\n",
    "            df.metroscubiertos.fillna(0, inplace=True)\n",
    "        else:\n",
    "            df[idsNullMetrosTotales]['metrostotales'] =  df[idsNullMetrosTotales]['metroscubiertos']\n",
    "            df[idsNullMetrosCubiertos]['metroscubiertos'] =  df[idsNullMetrosCubiertos]['metrostotales']\n",
    "\n",
    "        #Si la moda del tipo de propiedad de banos y habitaciones son ambas distintas de nan entonces la propiedad es habitable.\n",
    "\n",
    "        df.loc[(df.tipodepropiedad == tipodepropiedad), 'habitable'] = not(numpy.isnan(banos[0]) and numpy.isnan(habitaciones[0]))\n",
    "    \n",
    "    df['metros'] = df['metrostotales'] + df['metroscubiertos']\n",
    "    if(train):\n",
    "        def is_outlier(group):\n",
    "            Q1 = group.quantile(0.25)\n",
    "            Q3 = group.quantile(0.75)\n",
    "            IQR = Q3 - Q1\n",
    "            precio_min = Q1 - 1.5 * IQR\n",
    "            precio_max = Q3 + 1.5 * IQR\n",
    "            return ~group.between(precio_min, precio_max)\n",
    "        df['precio_mt2'] = df['precio'] / df['metros']\n",
    "        print()\n",
    "        \n",
    "        df = df[~df.groupby('tipodepropiedad')['precio_mt2'].apply(is_outlier).fillna(False)]\n",
    "        print('Despues de filtrar: ', df.shape)\n",
    "    return df\n",
    "\n",
    "train = pd.read_csv('../train.csv',\n",
    "        dtype={'gimnasio': int,\n",
    "                'usosmultiples': int,\n",
    "                'escuelascercanas': int,\n",
    "                'piscina': int,\n",
    "                'centroscomercialescercanos': int,\n",
    "                'tipodepropiedad': 'category',\n",
    "                'provincia': 'category',\n",
    "                'ciudad': 'category'\n",
    "            },\n",
    "        parse_dates=['fecha'])\n",
    "test = pd.read_csv('../test.csv',\n",
    "        dtype={'gimnasio': int,\n",
    "                'usosmultiples': int,\n",
    "                'escuelascercanas': int,\n",
    "                'piscina': int,\n",
    "                'centroscomercialescercanos': int,\n",
    "                'tipodepropiedad': 'category',\n",
    "                'provincia': 'category',\n",
    "                'ciudad': 'category'\n",
    "            },\n",
    "        parse_dates=['fecha'])\n",
    "# train = normailize_df(train, True)\n",
    "# test = normailize_df(test, False)\n",
    "train.drop(columns=[\"direccion\", \"titulo\", 'descripcion', 'lat', 'lng', 'fecha', 'idzona'], inplace=True)\n",
    "test.drop(columns=[\"direccion\", 'titulo', 'descripcion', 'lat', 'lng', 'fecha', 'idzona'], inplace=True)\n",
    "df_all = train.append(test)\n",
    "null_values(df_all)\n",
    "df_all.dtypes"
   ]
  },
  {
   "cell_type": "code",
   "execution_count": null,
   "metadata": {},
   "outputs": [],
   "source": [
    "# for col in ('metrostotales', 'metroscubiertos'):\n",
    "#     df_all[col] = df_all[col].fillna(0)\n",
    "    \n",
    "# for col in ('garages', 'banos', 'antiguedad', 'habitaciones'):\n",
    "#     tipodepropiedades = df_all.tipodepropiedad.cat.categories.to_list()\n",
    "#     for tipodepropiedad in tipodepropiedades: \n",
    "#         df_all[df_all.tipodepropiedad == tipodepropiedad][col].fillna(df_all[df_all.tipodepropiedad == tipodepropiedad][col].mode(dropna=False))\n",
    "    \n",
    "# for col in ('ciudad', 'provincia', 'tipodepropiedad'):\n",
    "#     df_all[col] = df_all[col].fillna('None')\n",
    "\n",
    "# # Total area is the most important in terms of prices.    \n",
    "# df_all['metros'] = df_all['metrostotales'] + df_all['metroscubiertos']\n",
    "# df_all.drop(columns=[\"metrostotales\", 'metroscubiertos'], inplace=True)"
   ]
  },
  {
   "cell_type": "code",
   "execution_count": null,
   "metadata": {},
   "outputs": [],
   "source": [
    "train.dtypes"
   ]
  },
  {
   "cell_type": "code",
   "execution_count": null,
   "metadata": {},
   "outputs": [],
   "source": [
    "all_data =  pd.concat((train.loc[:,'tipodepropiedad':'centroscomercialescercanos'], test.loc[:,'tipodepropiedad':'centroscomercialescercanos']))"
   ]
  },
  {
   "cell_type": "code",
   "execution_count": null,
   "metadata": {},
   "outputs": [],
   "source": [
    "matplotlib.rcParams['figure.figsize'] = (12.0, 6.0)\n",
    "prices = pd.DataFrame({\"price\":train[\"precio_mt2\"], \"log(price + 1)\":np.log1p(train[\"precio_mt2\"])})\n",
    "prices.hist()"
   ]
  },
  {
   "cell_type": "code",
   "execution_count": null,
   "metadata": {},
   "outputs": [],
   "source": [
    "#log transform the target:\n",
    "train[\"precio_mt2\"] = np.log1p(train[\"precio_mt2\"])\n",
    "\n",
    "#log transform skewed numeric features:\n",
    "numeric_feats = all_data.dtypes[(all_data.dtypes == \"float64\") | (all_data.dtypes == \"int64\")].index\n",
    "skewed_feats = train[numeric_feats].apply(lambda x: skew(x.dropna())) #compute skewness\n",
    "skewed_feats = skewed_feats[skewed_feats > 0.75]\n",
    "skewed_feats = skewed_feats.index\n",
    "\n",
    "all_data[skewed_feats] = np.log1p(all_data[skewed_feats])\n"
   ]
  },
  {
   "cell_type": "code",
   "execution_count": null,
   "metadata": {},
   "outputs": [],
   "source": [
    "all_data = pd.get_dummies(all_data)\n"
   ]
  },
  {
   "cell_type": "code",
   "execution_count": null,
   "metadata": {},
   "outputs": [],
   "source": [
    "all_data.dtypes\n"
   ]
  },
  {
   "cell_type": "code",
   "execution_count": null,
   "metadata": {},
   "outputs": [],
   "source": [
    "# filling NA's with the mean of the column:\n",
    "all_data = all_data.fillna(all_data.mean())"
   ]
  },
  {
   "cell_type": "code",
   "execution_count": 30,
   "metadata": {},
   "outputs": [],
   "source": [
    "from sklearn.model_selection import train_test_split\n",
    "X_train, X_test, y_train, y_test = train_test_split(all_data[:train.shape[0]], train.precio_mt2, test_size=0.25, random_state=1)\n"
   ]
  },
  {
   "cell_type": "code",
   "execution_count": null,
   "metadata": {},
   "outputs": [],
   "source": [
    "from sklearn.linear_model import Ridge, RidgeCV, ElasticNet, LassoCV, LassoLarsCV\n",
    "from sklearn.model_selection import cross_val_score\n",
    "\n",
    "def rmse_cv(model):\n",
    "    rmse= np.sqrt(-cross_val_score(model, X_train, y_train, scoring=\"neg_mean_squared_error\", cv = 5))\n",
    "    return(rmse)"
   ]
  },
  {
   "cell_type": "code",
   "execution_count": null,
   "metadata": {},
   "outputs": [],
   "source": [
    "model_ridge = Ridge()\n"
   ]
  },
  {
   "cell_type": "code",
   "execution_count": null,
   "metadata": {},
   "outputs": [],
   "source": [
    "alphas = [0.05, 0.1, 0.3, 1, 3, 5]\n",
    "cv_ridge = [rmse_cv(Ridge(alpha = alpha)).mean() \n",
    "            for alpha in alphas]"
   ]
  },
  {
   "cell_type": "code",
   "execution_count": null,
   "metadata": {},
   "outputs": [],
   "source": [
    "cv_ridge = pd.Series(cv_ridge, index = alphas)\n",
    "cv_ridge.plot(title = \"Validation - Just Do It\")\n",
    "plt.xlabel(\"alpha\")\n",
    "plt.ylabel(\"rmse\")"
   ]
  },
  {
   "cell_type": "code",
   "execution_count": null,
   "metadata": {},
   "outputs": [],
   "source": [
    "model_lasso = LassoCV(alphas = [1, 0.1, 0.001, 0.0005]).fit(X_train, y_train)"
   ]
  },
  {
   "cell_type": "code",
   "execution_count": null,
   "metadata": {},
   "outputs": [],
   "source": [
    "rmse_cv(model_lasso).mean()\n"
   ]
  },
  {
   "cell_type": "code",
   "execution_count": null,
   "metadata": {},
   "outputs": [],
   "source": [
    "cv_ridge.min()\n"
   ]
  },
  {
   "cell_type": "code",
   "execution_count": null,
   "metadata": {},
   "outputs": [],
   "source": [
    "coef = pd.Series(model_lasso.coef_, index = X_train.columns)\n"
   ]
  },
  {
   "cell_type": "code",
   "execution_count": null,
   "metadata": {},
   "outputs": [],
   "source": [
    "print(\"Lasso picked \" + str(sum(coef != 0)) + \" variables and eliminated the other \" +  str(sum(coef == 0)) + \" variables\")"
   ]
  },
  {
   "cell_type": "code",
   "execution_count": null,
   "metadata": {},
   "outputs": [],
   "source": [
    "imp_coef = pd.concat([coef.sort_values().head(10),\n",
    "                     coef.sort_values().tail(10)])"
   ]
  },
  {
   "cell_type": "code",
   "execution_count": null,
   "metadata": {},
   "outputs": [],
   "source": [
    "matplotlib.rcParams['figure.figsize'] = (8.0, 10.0)\n",
    "imp_coef.plot(kind = \"barh\")\n",
    "plt.title(\"Coefficients in the Lasso Model\")"
   ]
  },
  {
   "cell_type": "code",
   "execution_count": 31,
   "metadata": {},
   "outputs": [],
   "source": [
    "model = Ridge(alpha = 5).fit(X_train, y_train)\n",
    "ridge_preds = model.predict(X_test)\n",
    "X_train2, X_test2, y_train2, y_test2 = train_test_split(all_data[:train.shape[0]], train.precio_mt2, test_size=0.15, random_state=1)\n",
    "ridge_preds2 = model.predict(X_test2)"
   ]
  },
  {
   "cell_type": "code",
   "execution_count": 49,
   "metadata": {},
   "outputs": [
    {
     "data": {
      "text/html": [
       "<div>\n",
       "<style scoped>\n",
       "    .dataframe tbody tr th:only-of-type {\n",
       "        vertical-align: middle;\n",
       "    }\n",
       "\n",
       "    .dataframe tbody tr th {\n",
       "        vertical-align: top;\n",
       "    }\n",
       "\n",
       "    .dataframe thead th {\n",
       "        text-align: right;\n",
       "    }\n",
       "</style>\n",
       "<table border=\"1\" class=\"dataframe\">\n",
       "  <thead>\n",
       "    <tr style=\"text-align: right;\">\n",
       "      <th></th>\n",
       "      <th>precio_mt2</th>\n",
       "      <th>pred</th>\n",
       "      <th>error</th>\n",
       "    </tr>\n",
       "  </thead>\n",
       "  <tbody>\n",
       "    <tr>\n",
       "      <td>150885</td>\n",
       "      <td>7.517935</td>\n",
       "      <td>8.022703</td>\n",
       "      <td>-0.504768</td>\n",
       "    </tr>\n",
       "    <tr>\n",
       "      <td>108192</td>\n",
       "      <td>7.753348</td>\n",
       "      <td>8.242022</td>\n",
       "      <td>-0.488674</td>\n",
       "    </tr>\n",
       "    <tr>\n",
       "      <td>85452</td>\n",
       "      <td>8.504817</td>\n",
       "      <td>9.032765</td>\n",
       "      <td>-0.527948</td>\n",
       "    </tr>\n",
       "    <tr>\n",
       "      <td>41421</td>\n",
       "      <td>10.230667</td>\n",
       "      <td>9.815183</td>\n",
       "      <td>0.415484</td>\n",
       "    </tr>\n",
       "    <tr>\n",
       "      <td>119345</td>\n",
       "      <td>9.063073</td>\n",
       "      <td>8.262962</td>\n",
       "      <td>0.800111</td>\n",
       "    </tr>\n",
       "    <tr>\n",
       "      <td>...</td>\n",
       "      <td>...</td>\n",
       "      <td>...</td>\n",
       "      <td>...</td>\n",
       "    </tr>\n",
       "    <tr>\n",
       "      <td>93602</td>\n",
       "      <td>7.742037</td>\n",
       "      <td>8.295034</td>\n",
       "      <td>-0.552997</td>\n",
       "    </tr>\n",
       "    <tr>\n",
       "      <td>17978</td>\n",
       "      <td>8.079248</td>\n",
       "      <td>8.758708</td>\n",
       "      <td>-0.679459</td>\n",
       "    </tr>\n",
       "    <tr>\n",
       "      <td>70338</td>\n",
       "      <td>9.919375</td>\n",
       "      <td>9.400922</td>\n",
       "      <td>0.518452</td>\n",
       "    </tr>\n",
       "    <tr>\n",
       "      <td>72048</td>\n",
       "      <td>9.076923</td>\n",
       "      <td>8.606418</td>\n",
       "      <td>0.470505</td>\n",
       "    </tr>\n",
       "    <tr>\n",
       "      <td>153135</td>\n",
       "      <td>9.897107</td>\n",
       "      <td>9.487933</td>\n",
       "      <td>0.409174</td>\n",
       "    </tr>\n",
       "  </tbody>\n",
       "</table>\n",
       "<p>15570 rows × 3 columns</p>\n",
       "</div>"
      ],
      "text/plain": [
       "        precio_mt2      pred     error\n",
       "150885    7.517935  8.022703 -0.504768\n",
       "108192    7.753348  8.242022 -0.488674\n",
       "85452     8.504817  9.032765 -0.527948\n",
       "41421    10.230667  9.815183  0.415484\n",
       "119345    9.063073  8.262962  0.800111\n",
       "...            ...       ...       ...\n",
       "93602     7.742037  8.295034 -0.552997\n",
       "17978     8.079248  8.758708 -0.679459\n",
       "70338     9.919375  9.400922  0.518452\n",
       "72048     9.076923  8.606418  0.470505\n",
       "153135    9.897107  9.487933  0.409174\n",
       "\n",
       "[15570 rows x 3 columns]"
      ]
     },
     "execution_count": 49,
     "metadata": {},
     "output_type": "execute_result"
    }
   ],
   "source": [
    "# Métrica de evaluación\n",
    "def RMSLE(actual, pred):\n",
    "    return (np.mean((np.log(actual + 1) - np.log(pred + 1)) ** 2)) **.5\n",
    "\n",
    "def RMSE(actual, pred): \n",
    "    return np.sqrt(mean_squared_error(actual, pred))\n",
    "\n",
    "errordf = pd.DataFrame(y_test)\n",
    "errordf['pred'] = ridge_preds\n",
    "errordf['error'] = ((errordf.precio_mt2 - errordf.pred) * 2) * .5\n",
    "errordf[abs(errordf.error) > RMSE(ridge_preds, y_test)]\n",
    "\n",
    "\n",
    "# (\n",
    "\n",
    "# from sklearn.metrics import mean_squared_error\n",
    "# print(RMSE(ridge_preds, y_test))\n",
    "\n",
    "# print(RMSLE(ridge_preds2, y_test2))"
   ]
  },
  {
   "cell_type": "code",
   "execution_count": null,
   "metadata": {},
   "outputs": [],
   "source": [
    "ridge_final_preds = Ridge(alpha = 5).fit(all_data[:train.shape[0]], train.precio_mt2).predict(all_data[train.shape[0]:])"
   ]
  },
  {
   "cell_type": "code",
   "execution_count": 1,
   "metadata": {},
   "outputs": [
    {
     "ename": "NameError",
     "evalue": "name 'test' is not defined",
     "output_type": "error",
     "traceback": [
      "\u001b[0;31m---------------------------------------------------------------------------\u001b[0m",
      "\u001b[0;31mNameError\u001b[0m                                 Traceback (most recent call last)",
      "\u001b[0;32m<ipython-input-1-fc34842af163>\u001b[0m in \u001b[0;36m<module>\u001b[0;34m\u001b[0m\n\u001b[0;32m----> 1\u001b[0;31m \u001b[0mfinal\u001b[0m \u001b[0;34m=\u001b[0m \u001b[0mtest\u001b[0m\u001b[0;34m[\u001b[0m\u001b[0;34m[\u001b[0m\u001b[0;34m'id'\u001b[0m\u001b[0;34m]\u001b[0m\u001b[0;34m]\u001b[0m\u001b[0;34m\u001b[0m\u001b[0;34m\u001b[0m\u001b[0m\n\u001b[0m\u001b[1;32m      2\u001b[0m \u001b[0mfinal\u001b[0m\u001b[0;34m.\u001b[0m\u001b[0mloc\u001b[0m\u001b[0;34m[\u001b[0m\u001b[0;34m:\u001b[0m\u001b[0;34m,\u001b[0m \u001b[0;34m'target'\u001b[0m\u001b[0;34m]\u001b[0m \u001b[0;34m=\u001b[0m \u001b[0mtest\u001b[0m\u001b[0;34m.\u001b[0m\u001b[0mmetros\u001b[0m \u001b[0;34m*\u001b[0m \u001b[0mnp\u001b[0m\u001b[0;34m.\u001b[0m\u001b[0mexpm1\u001b[0m\u001b[0;34m(\u001b[0m\u001b[0mridge_final_preds\u001b[0m\u001b[0;34m)\u001b[0m\u001b[0;34m\u001b[0m\u001b[0;34m\u001b[0m\u001b[0m\n\u001b[1;32m      3\u001b[0m \u001b[0mfinal\u001b[0m\u001b[0;34m.\u001b[0m\u001b[0mset_index\u001b[0m\u001b[0;34m(\u001b[0m\u001b[0;34m'id'\u001b[0m\u001b[0;34m)\u001b[0m\u001b[0;34m.\u001b[0m\u001b[0mto_csv\u001b[0m\u001b[0;34m(\u001b[0m\u001b[0;34m'../prediction.csv'\u001b[0m\u001b[0;34m)\u001b[0m\u001b[0;34m\u001b[0m\u001b[0;34m\u001b[0m\u001b[0m\n",
      "\u001b[0;31mNameError\u001b[0m: name 'test' is not defined"
     ]
    }
   ],
   "source": [
    "final = test[['id']]\n",
    "final.loc[:, 'target'] = test.metros * np.expm1(ridge_final_preds)\n",
    "final.set_index('id').to_csv('../prediction.csv')"
   ]
  },
  {
   "cell_type": "code",
   "execution_count": null,
   "metadata": {},
   "outputs": [],
   "source": [
    "h = FeatureHasher(n_features=2)\n",
    "D = [{'dog': 1, 'cat':2, 'elephant':4},{'dog': 2, 'run': 5}]\n",
    "f = h.transform(D)"
   ]
  }
 ],
 "metadata": {
  "kernelspec": {
   "display_name": "Python 3",
   "language": "python",
   "name": "python3"
  },
  "language_info": {
   "codemirror_mode": {
    "name": "ipython",
    "version": 3
   },
   "file_extension": ".py",
   "mimetype": "text/x-python",
   "name": "python",
   "nbconvert_exporter": "python",
   "pygments_lexer": "ipython3",
   "version": "3.7.2"
  }
 },
 "nbformat": 4,
 "nbformat_minor": 2
}
