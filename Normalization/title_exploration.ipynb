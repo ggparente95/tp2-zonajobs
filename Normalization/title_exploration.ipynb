{
 "cells": [
  {
   "cell_type": "code",
   "execution_count": 1,
   "metadata": {},
   "outputs": [],
   "source": [
    "import pandas as pd\n",
    "import numpy as np\n",
    "import seaborn as sns\n",
    "import matplotlib\n",
    "import numpy\n",
    "import matplotlib.pyplot as plt\n",
    "from scipy.stats import skew\n",
    "from scipy.stats.stats import pearsonr\n",
    "import xgboost as xgb\n",
    "from sklearn.metrics import mean_squared_error\n",
    "from collections import OrderedDict\n",
    "from sklearn.neural_network import MLPRegressor\n",
    "from sklearn.model_selection import train_test_split\n",
    "import xgboost as xgb\n",
    "\n",
    "# %config InlineBackend.figure_format = 'retina' #set 'png' here when working on notebook\n",
    "# %matplotlib inline"
   ]
  },
  {
   "cell_type": "code",
   "execution_count": 2,
   "metadata": {},
   "outputs": [
    {
     "data": {
      "text/plain": [
       "(234521, 42)"
      ]
     },
     "execution_count": 2,
     "metadata": {},
     "output_type": "execute_result"
    }
   ],
   "source": [
    "train = pd.read_csv('../normalized_train.csv',\n",
    "        dtype={'gimnasio': int,\n",
    "                'usosmultiples': int,\n",
    "                'escuelascercanas': int,\n",
    "                'piscina': int,\n",
    "                'centroscomercialescercanos': int\n",
    "            },\n",
    "        parse_dates=['fecha'])\n",
    "test = pd.read_csv('../normalized_test.csv',\n",
    "        dtype={'gimnasio': int,\n",
    "                'usosmultiples': int,\n",
    "                'escuelascercanas': int,\n",
    "                'piscina': int,\n",
    "                'centroscomercialescercanos': int,\n",
    "            },\n",
    "        parse_dates=['fecha'])\n",
    "train_raw = pd.read_csv('../train.csv',\n",
    "        dtype={'gimnasio': int,\n",
    "                'usosmultiples': int,\n",
    "                'escuelascercanas': int,\n",
    "                'piscina': int,\n",
    "                'centroscomercialescercanos': int,\n",
    "                'tipodepropiedad': 'category',\n",
    "                'provincia': 'category',\n",
    "                'ciudad': 'category'\n",
    "            },\n",
    "        parse_dates=['fecha'])\n",
    "test = test.set_index('id').dropna(subset=['titulo'])\n",
    "train = train.set_index('id').dropna(subset=['titulo'])\n",
    "df_all = train.append(test)\n",
    "train.shape"
   ]
  },
  {
   "cell_type": "code",
   "execution_count": 3,
   "metadata": {},
   "outputs": [
    {
     "data": {
      "text/plain": [
       "['apartamento',\n",
       " 'bodega comercial',\n",
       " 'casa',\n",
       " 'casa en condominio',\n",
       " 'casa uso de suelo',\n",
       " 'departamento compartido',\n",
       " 'duplex',\n",
       " 'edificio',\n",
       " 'huerta',\n",
       " 'inmuebles productivos urbanos',\n",
       " 'local comercial',\n",
       " 'local en centro comercial',\n",
       " 'lote',\n",
       " 'nave industrial',\n",
       " 'oficina comercial',\n",
       " 'otros',\n",
       " 'quinta vacacional',\n",
       " 'rancho',\n",
       " 'terreno',\n",
       " 'terreno comercial',\n",
       " 'terreno industrial',\n",
       " 'villa',\n",
       " 'hospedaje',\n",
       " 'garage']"
      ]
     },
     "execution_count": 3,
     "metadata": {},
     "output_type": "execute_result"
    }
   ],
   "source": [
    "tipodepopiedades = [item.lower() for item in train_raw.tipodepropiedad.cat.categories]\n",
    "tipodepopiedades"
   ]
  },
  {
   "cell_type": "code",
   "execution_count": 4,
   "metadata": {},
   "outputs": [
    {
     "data": {
      "text/plain": [
       "[('venta', 132690),\n",
       " ('departamento', 47720),\n",
       " ('san', 20543),\n",
       " ('excelente', 15632),\n",
       " ('lomas', 13890),\n",
       " ('col', 13448),\n",
       " ('residencial', 12570),\n",
       " ('hermosa', 11738),\n",
       " ('condominio', 10751),\n",
       " ('valle', 9904),\n",
       " ('recamaras', 8851),\n",
       " ('oportunidad', 8725),\n",
       " ('santa', 8598),\n",
       " ('fracc', 8115),\n",
       " ('fraccionamiento', 7559),\n",
       " ('nueva', 7399),\n",
       " ('casas', 7364),\n",
       " ('remate', 7127),\n",
       " ('bonita', 6797),\n",
       " ('cerca', 6441)]"
      ]
     },
     "execution_count": 4,
     "metadata": {},
     "output_type": "execute_result"
    }
   ],
   "source": [
    "import nltk\n",
    "import re\n",
    "from unicodedata import normalize\n",
    "from nltk.corpus import stopwords\n",
    "from nltk.tokenize import RegexpTokenizer\n",
    "stopwords = stopwords.words('spanish')\n",
    "\n",
    "\n",
    "from collections import Counter\n",
    "counter = Counter()\n",
    "tokenizer = RegexpTokenizer(r'\\w+')\n",
    "a,b = 'áéíóúü','aeiouu'\n",
    "trans = str.maketrans(a,b)\n",
    "\n",
    "def countplease(x):\n",
    "    \n",
    "#     print(x)\n",
    "    if(x!=x): return;\n",
    "    \n",
    "    x = tokenizer.tokenize(x)\n",
    "\n",
    "    for word in list(x):  # iterating on a copy since removing will mess things up\n",
    "        if word in stopwords or word.isnumeric() or word in tipodepopiedades:\n",
    "            x.remove(word)\n",
    "\n",
    "    x = [item.translate(trans) for item in x]\n",
    "    counter.update(x)\n",
    "    \n",
    "\n",
    "df_all['titulo'].apply(lambda x: countplease(x))\n",
    "counter.most_common(20)\n"
   ]
  },
  {
   "cell_type": "code",
   "execution_count": 5,
   "metadata": {
    "scrolled": false
   },
   "outputs": [],
   "source": [
    "soloprecio = train[['logprecio', 'metros']]\n",
    "solopreciotrain = soloprecio;\n",
    "solotest = test[['metros']]\n",
    "\n",
    "def buildDataframe(appearences, counter):\n",
    "    newDict = dict()\n",
    "\n",
    "    for (key, value) in dict(counter).items():\n",
    "        # Check if key is even then add pair to new dictionary\n",
    "    #     print(value)\n",
    "        if int(value) > appearences:\n",
    "            newDict[key] = value\n",
    "\n",
    "    amountOfWords = int(len(newDict.keys()))\n",
    "    words = list(newDict.keys())\n",
    "\n",
    "    #  Add hot encoding type to dataframe with words as columns.\n",
    "    for word in words: \n",
    "        soloprecio[word] = train['titulo'].str.contains(word) \n",
    "        solotest[word] = test['titulo'].str.contains(word)\n",
    "        \n",
    "    print('Amount of words in builingDF', amountOfWords)\n",
    "    return amountOfWords  # Return the \n"
   ]
  },
  {
   "cell_type": "code",
   "execution_count": 6,
   "metadata": {},
   "outputs": [],
   "source": [
    "# clf = MLPRegressor(hidden_layer_sizes=(10), activation='tanh', solver='adam')"
   ]
  },
  {
   "cell_type": "code",
   "execution_count": 7,
   "metadata": {},
   "outputs": [
    {
     "name": "stderr",
     "output_type": "stream",
     "text": [
      "/Library/Frameworks/Python.framework/Versions/3.7/lib/python3.7/site-packages/ipykernel_launcher.py:19: SettingWithCopyWarning: \n",
      "A value is trying to be set on a copy of a slice from a DataFrame.\n",
      "Try using .loc[row_indexer,col_indexer] = value instead\n",
      "\n",
      "See the caveats in the documentation: http://pandas.pydata.org/pandas-docs/stable/user_guide/indexing.html#returning-a-view-versus-a-copy\n",
      "/Library/Frameworks/Python.framework/Versions/3.7/lib/python3.7/site-packages/ipykernel_launcher.py:20: SettingWithCopyWarning: \n",
      "A value is trying to be set on a copy of a slice from a DataFrame.\n",
      "Try using .loc[row_indexer,col_indexer] = value instead\n",
      "\n",
      "See the caveats in the documentation: http://pandas.pydata.org/pandas-docs/stable/user_guide/indexing.html#returning-a-view-versus-a-copy\n"
     ]
    },
    {
     "name": "stdout",
     "output_type": "stream",
     "text": [
      "Amount of words in builingDF 94\n",
      "0\n"
     ]
    },
    {
     "name": "stderr",
     "output_type": "stream",
     "text": [
      "/Library/Frameworks/Python.framework/Versions/3.7/lib/python3.7/site-packages/xgboost/core.py:587: FutureWarning: Series.base is deprecated and will be removed in a future version\n",
      "  if getattr(data, 'base', None) is not None and \\\n"
     ]
    },
    {
     "name": "stdout",
     "output_type": "stream",
     "text": [
      "[23:36:06] WARNING: src/objective/regression_obj.cu:152: reg:linear is now deprecated in favor of reg:squarederror.\n"
     ]
    },
    {
     "name": "stderr",
     "output_type": "stream",
     "text": [
      "/Library/Frameworks/Python.framework/Versions/3.7/lib/python3.7/site-packages/xgboost/core.py:587: FutureWarning: Series.base is deprecated and will be removed in a future version\n",
      "  if getattr(data, 'base', None) is not None and \\\n"
     ]
    },
    {
     "name": "stdout",
     "output_type": "stream",
     "text": [
      "[23:38:17] WARNING: src/objective/regression_obj.cu:152: reg:linear is now deprecated in favor of reg:squarederror.\n",
      "Amount of words in builingDF 107\n",
      "0\n"
     ]
    },
    {
     "name": "stderr",
     "output_type": "stream",
     "text": [
      "/Library/Frameworks/Python.framework/Versions/3.7/lib/python3.7/site-packages/xgboost/core.py:587: FutureWarning: Series.base is deprecated and will be removed in a future version\n",
      "  if getattr(data, 'base', None) is not None and \\\n"
     ]
    },
    {
     "name": "stdout",
     "output_type": "stream",
     "text": [
      "[23:40:38] WARNING: src/objective/regression_obj.cu:152: reg:linear is now deprecated in favor of reg:squarederror.\n"
     ]
    },
    {
     "name": "stderr",
     "output_type": "stream",
     "text": [
      "/Library/Frameworks/Python.framework/Versions/3.7/lib/python3.7/site-packages/xgboost/core.py:587: FutureWarning: Series.base is deprecated and will be removed in a future version\n",
      "  if getattr(data, 'base', None) is not None and \\\n"
     ]
    },
    {
     "name": "stdout",
     "output_type": "stream",
     "text": [
      "[23:43:00] WARNING: src/objective/regression_obj.cu:152: reg:linear is now deprecated in favor of reg:squarederror.\n",
      "Amount of words in builingDF 120\n",
      "0\n"
     ]
    },
    {
     "name": "stderr",
     "output_type": "stream",
     "text": [
      "/Library/Frameworks/Python.framework/Versions/3.7/lib/python3.7/site-packages/xgboost/core.py:587: FutureWarning: Series.base is deprecated and will be removed in a future version\n",
      "  if getattr(data, 'base', None) is not None and \\\n"
     ]
    },
    {
     "name": "stdout",
     "output_type": "stream",
     "text": [
      "[23:45:38] WARNING: src/objective/regression_obj.cu:152: reg:linear is now deprecated in favor of reg:squarederror.\n"
     ]
    },
    {
     "name": "stderr",
     "output_type": "stream",
     "text": [
      "/Library/Frameworks/Python.framework/Versions/3.7/lib/python3.7/site-packages/xgboost/core.py:587: FutureWarning: Series.base is deprecated and will be removed in a future version\n",
      "  if getattr(data, 'base', None) is not None and \\\n"
     ]
    },
    {
     "name": "stdout",
     "output_type": "stream",
     "text": [
      "[23:48:15] WARNING: src/objective/regression_obj.cu:152: reg:linear is now deprecated in favor of reg:squarederror.\n",
      "Amount of words in builingDF 151\n",
      "0\n"
     ]
    },
    {
     "name": "stderr",
     "output_type": "stream",
     "text": [
      "/Library/Frameworks/Python.framework/Versions/3.7/lib/python3.7/site-packages/xgboost/core.py:587: FutureWarning: Series.base is deprecated and will be removed in a future version\n",
      "  if getattr(data, 'base', None) is not None and \\\n"
     ]
    },
    {
     "name": "stdout",
     "output_type": "stream",
     "text": [
      "[23:51:12] WARNING: src/objective/regression_obj.cu:152: reg:linear is now deprecated in favor of reg:squarederror.\n"
     ]
    },
    {
     "name": "stderr",
     "output_type": "stream",
     "text": [
      "/Library/Frameworks/Python.framework/Versions/3.7/lib/python3.7/site-packages/xgboost/core.py:587: FutureWarning: Series.base is deprecated and will be removed in a future version\n",
      "  if getattr(data, 'base', None) is not None and \\\n"
     ]
    },
    {
     "name": "stdout",
     "output_type": "stream",
     "text": [
      "[23:54:27] WARNING: src/objective/regression_obj.cu:152: reg:linear is now deprecated in favor of reg:squarederror.\n",
      "Amount of words in builingDF 179\n",
      "0\n"
     ]
    },
    {
     "name": "stderr",
     "output_type": "stream",
     "text": [
      "/Library/Frameworks/Python.framework/Versions/3.7/lib/python3.7/site-packages/xgboost/core.py:587: FutureWarning: Series.base is deprecated and will be removed in a future version\n",
      "  if getattr(data, 'base', None) is not None and \\\n"
     ]
    },
    {
     "name": "stdout",
     "output_type": "stream",
     "text": [
      "[23:58:05] WARNING: src/objective/regression_obj.cu:152: reg:linear is now deprecated in favor of reg:squarederror.\n"
     ]
    },
    {
     "name": "stderr",
     "output_type": "stream",
     "text": [
      "/Library/Frameworks/Python.framework/Versions/3.7/lib/python3.7/site-packages/xgboost/core.py:587: FutureWarning: Series.base is deprecated and will be removed in a future version\n",
      "  if getattr(data, 'base', None) is not None and \\\n"
     ]
    },
    {
     "name": "stdout",
     "output_type": "stream",
     "text": [
      "[00:01:54] WARNING: src/objective/regression_obj.cu:152: reg:linear is now deprecated in favor of reg:squarederror.\n",
      "Amount of words in builingDF 212\n",
      "0\n"
     ]
    },
    {
     "name": "stderr",
     "output_type": "stream",
     "text": [
      "/Library/Frameworks/Python.framework/Versions/3.7/lib/python3.7/site-packages/xgboost/core.py:587: FutureWarning: Series.base is deprecated and will be removed in a future version\n",
      "  if getattr(data, 'base', None) is not None and \\\n"
     ]
    },
    {
     "name": "stdout",
     "output_type": "stream",
     "text": [
      "[00:06:12] WARNING: src/objective/regression_obj.cu:152: reg:linear is now deprecated in favor of reg:squarederror.\n"
     ]
    },
    {
     "name": "stderr",
     "output_type": "stream",
     "text": [
      "/Library/Frameworks/Python.framework/Versions/3.7/lib/python3.7/site-packages/xgboost/core.py:587: FutureWarning: Series.base is deprecated and will be removed in a future version\n",
      "  if getattr(data, 'base', None) is not None and \\\n"
     ]
    },
    {
     "name": "stdout",
     "output_type": "stream",
     "text": [
      "[00:10:39] WARNING: src/objective/regression_obj.cu:152: reg:linear is now deprecated in favor of reg:squarederror.\n",
      "Amount of words in builingDF 266\n",
      "0\n"
     ]
    },
    {
     "name": "stderr",
     "output_type": "stream",
     "text": [
      "/Library/Frameworks/Python.framework/Versions/3.7/lib/python3.7/site-packages/xgboost/core.py:587: FutureWarning: Series.base is deprecated and will be removed in a future version\n",
      "  if getattr(data, 'base', None) is not None and \\\n"
     ]
    },
    {
     "name": "stdout",
     "output_type": "stream",
     "text": [
      "[00:15:45] WARNING: src/objective/regression_obj.cu:152: reg:linear is now deprecated in favor of reg:squarederror.\n"
     ]
    },
    {
     "name": "stderr",
     "output_type": "stream",
     "text": [
      "/Library/Frameworks/Python.framework/Versions/3.7/lib/python3.7/site-packages/xgboost/core.py:587: FutureWarning: Series.base is deprecated and will be removed in a future version\n",
      "  if getattr(data, 'base', None) is not None and \\\n"
     ]
    },
    {
     "name": "stdout",
     "output_type": "stream",
     "text": [
      "[00:21:18] WARNING: src/objective/regression_obj.cu:152: reg:linear is now deprecated in favor of reg:squarederror.\n",
      "Amount of words in builingDF 353\n",
      "0\n"
     ]
    },
    {
     "name": "stderr",
     "output_type": "stream",
     "text": [
      "/Library/Frameworks/Python.framework/Versions/3.7/lib/python3.7/site-packages/xgboost/core.py:587: FutureWarning: Series.base is deprecated and will be removed in a future version\n",
      "  if getattr(data, 'base', None) is not None and \\\n"
     ]
    },
    {
     "name": "stdout",
     "output_type": "stream",
     "text": [
      "[00:27:35] WARNING: src/objective/regression_obj.cu:152: reg:linear is now deprecated in favor of reg:squarederror.\n"
     ]
    },
    {
     "name": "stderr",
     "output_type": "stream",
     "text": [
      "/Library/Frameworks/Python.framework/Versions/3.7/lib/python3.7/site-packages/xgboost/core.py:587: FutureWarning: Series.base is deprecated and will be removed in a future version\n",
      "  if getattr(data, 'base', None) is not None and \\\n"
     ]
    },
    {
     "name": "stdout",
     "output_type": "stream",
     "text": [
      "[00:34:52] WARNING: src/objective/regression_obj.cu:152: reg:linear is now deprecated in favor of reg:squarederror.\n",
      "Amount of words in builingDF 464\n",
      "0\n"
     ]
    },
    {
     "name": "stderr",
     "output_type": "stream",
     "text": [
      "/Library/Frameworks/Python.framework/Versions/3.7/lib/python3.7/site-packages/xgboost/core.py:587: FutureWarning: Series.base is deprecated and will be removed in a future version\n",
      "  if getattr(data, 'base', None) is not None and \\\n"
     ]
    },
    {
     "name": "stdout",
     "output_type": "stream",
     "text": [
      "[00:43:08] WARNING: src/objective/regression_obj.cu:152: reg:linear is now deprecated in favor of reg:squarederror.\n"
     ]
    },
    {
     "name": "stderr",
     "output_type": "stream",
     "text": [
      "/Library/Frameworks/Python.framework/Versions/3.7/lib/python3.7/site-packages/xgboost/core.py:587: FutureWarning: Series.base is deprecated and will be removed in a future version\n",
      "  if getattr(data, 'base', None) is not None and \\\n"
     ]
    },
    {
     "name": "stdout",
     "output_type": "stream",
     "text": [
      "[00:52:35] WARNING: src/objective/regression_obj.cu:152: reg:linear is now deprecated in favor of reg:squarederror.\n",
      "Amount of words in builingDF 776\n",
      "0\n"
     ]
    },
    {
     "name": "stderr",
     "output_type": "stream",
     "text": [
      "/Library/Frameworks/Python.framework/Versions/3.7/lib/python3.7/site-packages/xgboost/core.py:587: FutureWarning: Series.base is deprecated and will be removed in a future version\n",
      "  if getattr(data, 'base', None) is not None and \\\n"
     ]
    },
    {
     "name": "stdout",
     "output_type": "stream",
     "text": [
      "[01:03:38] WARNING: src/objective/regression_obj.cu:152: reg:linear is now deprecated in favor of reg:squarederror.\n"
     ]
    },
    {
     "name": "stderr",
     "output_type": "stream",
     "text": [
      "/Library/Frameworks/Python.framework/Versions/3.7/lib/python3.7/site-packages/xgboost/core.py:587: FutureWarning: Series.base is deprecated and will be removed in a future version\n",
      "  if getattr(data, 'base', None) is not None and \\\n"
     ]
    },
    {
     "name": "stdout",
     "output_type": "stream",
     "text": [
      "[01:18:57] WARNING: src/objective/regression_obj.cu:152: reg:linear is now deprecated in favor of reg:squarederror.\n"
     ]
    }
   ],
   "source": [
    "from sklearn.model_selection import cross_val_score\n",
    "columns = []\n",
    "# def rmse_cv(model, appearence):\n",
    "#     columns.append(buildDataframe(appearence, counter))\n",
    "\n",
    "    \n",
    "#     every_column_except_y= [col for col in solopreciotrain.columns if col not in ['id', 'logprecio']]\n",
    "#     X_train, X_test, y_train, y_test = train_test_split(solopreciotrain[every_column_except_y], solopreciotrain.logprecio, test_size=0.2, random_state=123)\n",
    "#     print(solopreciotrain.logprecio.isnull().sum())\n",
    "#     rmse= np.sqrt(-cross_val_score(model, X_train, y_train, scoring=\"neg_mean_squared_error\", cv = 2))\n",
    "#     return(rmse)\n",
    "\n",
    "def xgBoost_rmse(model, appearence):\n",
    "    columns.append(buildDataframe(appearence, counter)) #Append to columns the amount of words for those appearences\n",
    "    \n",
    "    every_column_except_y= [col for col in solopreciotrain.columns if col not in ['id', 'logprecio']]\n",
    "    X_train, X_test, y_train, y_test = train_test_split(solopreciotrain[every_column_except_y], solopreciotrain.logprecio, test_size=0.2, random_state=123)\n",
    "    print(solopreciotrain.logprecio.isnull().sum())\n",
    "    rmse= np.sqrt(-cross_val_score(model, X_train, y_train, scoring=\"neg_mean_squared_error\", cv = 2))\n",
    "    return(rmse)\n",
    "\n",
    "#     print(OrderedDict(sorted(model.get_booster().get_fscore().items(), key=lambda t: t[1], reverse=True)))\n",
    "#     return (OrderedDict(sorted(model.get_booster().get_fscore().items(), key=lambda t: t[1], reverse=True)))\n",
    "    \n",
    "\n",
    "appearences = list(range(2000, 0, -200))\n",
    "model = xgb.XGBRegressor(learning_rate =0.3, n_estimators=200, max_depth=10, gamma=0, subsample=0.8, colsample_bytree=0.8, nthread=6, scale_pos_weight=1, seed=27)\n",
    "cv_xgboost = [xgBoost_rmse(model, appearence).mean() for appearence in appearences]"
   ]
  },
  {
   "cell_type": "code",
   "execution_count": 11,
   "metadata": {},
   "outputs": [
    {
     "data": {
      "text/plain": [
       "94     0.542283\n",
       "107    0.539542\n",
       "120    0.532737\n",
       "151    0.520929\n",
       "179    0.515787\n",
       "212    0.509633\n",
       "266    0.502140\n",
       "353    0.494287\n",
       "464    0.487078\n",
       "776    0.673461\n",
       "dtype: float64"
      ]
     },
     "execution_count": 11,
     "metadata": {},
     "output_type": "execute_result"
    },
    {
     "data": {
      "image/png": "[encoded data removed]",
      "text/plain": [
       "<Figure size 432x288 with 1 Axes>"
      ]
     },
     "metadata": {
      "needs_background": "light"
     },
     "output_type": "display_data"
    }
   ],
   "source": [
    "cv_xgboost = pd.Series(cv_xgboost, index = columns)\n",
    "cv_xgboost.plot(title = \"Estimación solo con palabras del titulo- XgBoost\")\n",
    "plt.xlabel(\"Cantidad de palabras\", fontsize=12)\n",
    "plt.ylabel(\"rmse\", fontsize=12)\n",
    "cv_xgboost"
   ]
  },
  {
   "cell_type": "code",
   "execution_count": null,
   "metadata": {},
   "outputs": [],
   "source": [
    "model = xgb.XGBRegressor(learning_rate =0.1, n_estimators=700, max_depth=5, gamma=0, subsample=0.8, colsample_bytree=0.8, nthread=6, scale_pos_weight=1, seed=27)\n",
    "important_words = xgBoost_rmse(model, 800)"
   ]
  },
  {
   "cell_type": "code",
   "execution_count": null,
   "metadata": {},
   "outputs": [],
   "source": [
    "# clffinal = MLPRegressor(activation='tanh', solver='adam')\n",
    "# buildDataframe(15000)\n",
    "# every_column_except_y= [col for col in solopreciotrain.columns if col not in ['id', 'logprecio']]\n",
    "# X_train, X_test, y_train, y_test = train_test_split(solopreciotrain[every_column_except_y], solopreciotrain.logprecio, test_size=0.2, random_state=123)"
   ]
  },
  {
   "cell_type": "code",
   "execution_count": null,
   "metadata": {},
   "outputs": [],
   "source": [
    "# cv_neuron = pd.Series(cv_neuron, index = columns)\n",
    "# cv_neuron.plot(title = \"Estimación solo con palabras del titulo\")\n",
    "# plt.xlabel(\"Columnas\")\n",
    "# plt.ylabel(\"rmse\")\n",
    "# cv_neuron"
   ]
  },
  {
   "cell_type": "code",
   "execution_count": null,
   "metadata": {},
   "outputs": [],
   "source": [
    "# X_train, X_test, y_train, y_test = train_test_split(solopreciotrain[every_column_except_y], solopreciotrain.logprecio, test_size=0.2, random_state=123)\n",
    "# np.sqrt(mean_squared_error(y_test, clf.predict(y_train)))"
   ]
  },
  {
   "cell_type": "code",
   "execution_count": null,
   "metadata": {},
   "outputs": [],
   "source": [
    "clffinal = MLPRegressor(activation='tanh', solver='adam')\n",
    "buildDataframe(15000)\n",
    "every_column_except_y= [col for col in solopreciotrain.columns if col not in ['id', 'logprecio']]\n",
    "X_train, X_test, y_train, y_test = train_test_split(solopreciotrain[every_column_except_y], solopreciotrain.logprecio, test_size=0.2, random_state=123)"
   ]
  },
  {
   "cell_type": "code",
   "execution_count": null,
   "metadata": {},
   "outputs": [],
   "source": [
    "# clffinal.fit(X_train, y_train)"
   ]
  },
  {
   "cell_type": "code",
   "execution_count": null,
   "metadata": {},
   "outputs": [],
   "source": [
    "# np.sqrt(mean_squared_error(y_test, clffinal.predict(X_test)))"
   ]
  },
  {
   "cell_type": "code",
   "execution_count": null,
   "metadata": {},
   "outputs": [],
   "source": [
    "buildDataframe(50, Counter(important_words).most_common(100))"
   ]
  },
  {
   "cell_type": "code",
   "execution_count": null,
   "metadata": {},
   "outputs": [],
   "source": [
    "from sklearn.feature_extraction import FeatureHasher\n",
    "\n",
    "cantidad_features = 20\n",
    "\n",
    "h = FeatureHasher(n_features=cantidad_features, input_type='string')\n",
    "every_column_except_y= [col for col in solopreciotrain.columns if col not in ['id', 'logprecio', 'metros']]\n",
    "\n",
    "train_hashtrick = solopreciotrain.copy()\n",
    "test_hashtrick = solotest.copy()\n",
    "\n",
    "# Recorro las columnas y asigno la palabra si es True, sino nan.\n",
    "for el in every_column_except_y:\n",
    "    train_hashtrick.loc[train_hashtrick[el] == True, el] = el\n",
    "    train_hashtrick.loc[train_hashtrick[el] == False, el] = np.nan\n",
    "    test_hashtrick.loc[test_hashtrick[el] == True, el] = el\n",
    "    test_hashtrick.loc[test_hashtrick[el] == False, el] = np.nan\n",
    "\n",
    "# Armo la matriz de arrays para poder usar the hashing trick\n",
    "train_hashtrick = train_hashtrick[every_column_except_y].apply(lambda x: list(filter(lambda y : y == y, x)), axis=1)\n",
    "test_hashtrick = test_hashtrick[every_column_except_y].apply(lambda x: list(filter(lambda y : y == y, x)), axis=1)\n",
    "\n",
    "# Termino de armar los arrays.\n",
    "names = [f'fh{el + 1}' for el in range(cantidad_features)]\n",
    "f = h.transform(train_hashtrick.values)\n",
    "train_hashtrick = pd.DataFrame(f.toarray(), columns=names)\n",
    "train_hashtrick['id'] = train.index\n",
    "train_hashtrick = train_hashtrick.set_index('id')\n",
    "f = h.transform(test_hashtrick.values)\n",
    "test_hashtrick = pd.DataFrame(f.toarray(), columns=names)\n",
    "test_hashtrick['id'] = test.index\n",
    "test_hashtrick = test_hashtrick.set_index('id')\n",
    "test_hashtrick"
   ]
  },
  {
   "cell_type": "code",
   "execution_count": null,
   "metadata": {},
   "outputs": [],
   "source": [
    "test_hashtrick.shape"
   ]
  },
  {
   "cell_type": "code",
   "execution_count": null,
   "metadata": {},
   "outputs": [],
   "source": [
    "finaltest = pd.read_csv('../normalized_test.csv')\n",
    "finaltest = finaltest.set_index('id')\n",
    "finaltest = finaltest.join(test_hashtrick, how='left')\n",
    "\n",
    "finaltest.loc[:, names] = finaltest[names].fillna(0)\n",
    "finaltest.to_csv('../normalized2_test.csv')"
   ]
  },
  {
   "cell_type": "code",
   "execution_count": null,
   "metadata": {},
   "outputs": [],
   "source": [
    "finaltrain = pd.read_csv('../normalized_train.csv')\n",
    "finaltrain = finaltrain.set_index('id')\n",
    "finaltrain = finaltrain.join(train_hashtrick)\n",
    "\n",
    "finaltrain.loc[:, names] = finaltrain[names].fillna(0)\n",
    "finaltrain.to_csv('../normalized2_train.csv')"
   ]
  },
  {
   "cell_type": "code",
   "execution_count": null,
   "metadata": {},
   "outputs": [],
   "source": [
    "finaltrain.precio"
   ]
  },
  {
   "cell_type": "code",
   "execution_count": null,
   "metadata": {},
   "outputs": [],
   "source": [
    "finaltrain.shape"
   ]
  },
  {
   "cell_type": "code",
   "execution_count": null,
   "metadata": {},
   "outputs": [],
   "source": []
  }
 ],
 "metadata": {
  "kernelspec": {
   "display_name": "Python 3",
   "language": "python",
   "name": "python3"
  },
  "language_info": {
   "codemirror_mode": {
    "name": "ipython",
    "version": 3
   },
   "file_extension": ".py",
   "mimetype": "text/x-python",
   "name": "python",
   "nbconvert_exporter": "python",
   "pygments_lexer": "ipython3",
   "version": "3.7.2"
  }
 },
 "nbformat": 4,
 "nbformat_minor": 2
}
