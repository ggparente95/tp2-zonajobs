{
 "cells": [
  {
   "cell_type": "code",
   "execution_count": 114,
   "metadata": {},
   "outputs": [],
   "source": [
    "import pandas as pd\n",
    "import numpy as np\n",
    "import seaborn as sns\n",
    "import matplotlib\n",
    "import numpy\n",
    "import matplotlib.pyplot as plt\n",
    "from scipy.stats import skew\n",
    "from scipy.stats.stats import pearsonr\n",
    "import xgboost as xgb\n",
    "from sklearn.metrics import mean_squared_error\n",
    "from collections import OrderedDict\n",
    "\n",
    "# %config InlineBackend.figure_format = 'retina' #set 'png' here when working on notebook\n",
    "# %matplotlib inline"
   ]
  },
  {
   "cell_type": "code",
   "execution_count": 115,
   "metadata": {},
   "outputs": [],
   "source": [
    "# Se usaran los sets normalizados bajo columnas y TITULO, vease la mejora en el error.\n",
    "train = pd.read_csv('../normalized2_train.csv')\n",
    "test = pd.read_csv('../normalized2_test.csv')\n",
    "\n",
    "const = ['antiguedad', 'banos', 'garages', 'metroscubiertos', 'metrostotales', 'metros']\n",
    "every_column_except_y= [col for col in train.columns if col not in ['preciomt2', 'precio','id', 'logpreciomt2', 'fecha', 'descripcion', 'titulo', 'logprecio']]\n",
    "columns = [col for col in train[every_column_except_y].columns if col not in const]\n",
    "# columns\n",
    "train.loc[:, columns] = train[columns].fillna(0)\n",
    "for column in columns:\n",
    "    train[column] = train[column].astype('int32')\n",
    "\n"
   ]
  },
  {
   "cell_type": "code",
   "execution_count": 104,
   "metadata": {},
   "outputs": [
    {
     "data": {
      "text/plain": [
       "antiguedad                    float64\n",
       "banos                         float64\n",
       "centroscomercialescercanos      int32\n",
       "ciudad_0                        int32\n",
       "ciudad_1                        int32\n",
       "ciudad_2                        int32\n",
       "ciudad_3                        int32\n",
       "ciudad_4                        int32\n",
       "ciudad_5                        int32\n",
       "ciudad_6                        int32\n",
       "ciudad_7                        int32\n",
       "ciudad_8                        int32\n",
       "ciudad_9                        int32\n",
       "ciudad_10                       int32\n",
       "escuelascercanas                int32\n",
       "garages                       float64\n",
       "gimnasio                        int32\n",
       "habitaciones                    int32\n",
       "metroscubiertos               float64\n",
       "metrostotales                 float64\n",
       "piscina                         int32\n",
       "provincia_0                     int32\n",
       "provincia_1                     int32\n",
       "provincia_2                     int32\n",
       "provincia_3                     int32\n",
       "provincia_4                     int32\n",
       "provincia_5                     int32\n",
       "tipodepropiedad_0               int32\n",
       "tipodepropiedad_1               int32\n",
       "tipodepropiedad_2               int32\n",
       "tipodepropiedad_3               int32\n",
       "tipodepropiedad_4               int32\n",
       "tipodepropiedad_5               int32\n",
       "usosmultiples                   int32\n",
       "metros                        float64\n",
       "fh1                             int32\n",
       "fh2                             int32\n",
       "fh3                             int32\n",
       "fh4                             int32\n",
       "fh5                             int32\n",
       "fh6                             int32\n",
       "fh7                             int32\n",
       "fh8                             int32\n",
       "fh9                             int32\n",
       "fh10                            int32\n",
       "fh11                            int32\n",
       "fh12                            int32\n",
       "fh13                            int32\n",
       "fh14                            int32\n",
       "fh15                            int32\n",
       "fh16                            int32\n",
       "fh17                            int32\n",
       "fh18                            int32\n",
       "fh19                            int32\n",
       "fh20                            int32\n",
       "dtype: object"
      ]
     },
     "execution_count": 104,
     "metadata": {},
     "output_type": "execute_result"
    }
   ],
   "source": [
    "train[every_column_except_y].dtypes"
   ]
  },
  {
   "cell_type": "code",
   "execution_count": 122,
   "metadata": {},
   "outputs": [],
   "source": [
    "from sklearn.model_selection import train_test_split\n",
    "\n",
    "xg_reg = xgb.XGBRegressor(learning_rate =0.1, n_estimators=1000, max_depth=5,gamma=0, subsample=0.8, colsample_bytree=0.8, nthread=6, scale_pos_weight=1, seed=27)\n",
    "every_column_except_y= [col for col in train.columns if col not in ['preciomt2', 'precio','id', 'logpreciomt2', 'fecha', 'descripcion', 'titulo', 'logprecio']]\n",
    "# every_column_except_y = [col for col in train.columns if col in ['metros', 'antiguedad']]\n",
    "X, y = train.loc[:,every_column_except_y], train['logprecio']\n",
    "X_train, X_test, y_train, y_test = train_test_split(X, y, test_size=0.2, random_state=123)"
   ]
  },
  {
   "cell_type": "code",
   "execution_count": 123,
   "metadata": {},
   "outputs": [
    {
     "name": "stderr",
     "output_type": "stream",
     "text": [
      "/Library/Frameworks/Python.framework/Versions/3.7/lib/python3.7/site-packages/xgboost/core.py:587: FutureWarning: Series.base is deprecated and will be removed in a future version\n",
      "  if getattr(data, 'base', None) is not None and \\\n"
     ]
    },
    {
     "name": "stdout",
     "output_type": "stream",
     "text": [
      "[15:00:15] WARNING: src/objective/regression_obj.cu:152: reg:linear is now deprecated in favor of reg:squarederror.\n"
     ]
    },
    {
     "data": {
      "text/plain": [
       "XGBRegressor(base_score=0.5, booster='gbtree', colsample_bylevel=1,\n",
       "             colsample_bynode=1, colsample_bytree=0.8, gamma=0,\n",
       "             importance_type='gain', learning_rate=0.1, max_delta_step=0,\n",
       "             max_depth=5, min_child_weight=1, missing=None, n_estimators=1000,\n",
       "             n_jobs=1, nthread=6, objective='reg:linear', random_state=0,\n",
       "             reg_alpha=0, reg_lambda=1, scale_pos_weight=1, seed=27,\n",
       "             silent=None, subsample=0.8, verbosity=1)"
      ]
     },
     "execution_count": 123,
     "metadata": {},
     "output_type": "execute_result"
    }
   ],
   "source": [
    "\n",
    "xg_reg.fit(X_train,y_train)\n"
   ]
  },
  {
   "cell_type": "code",
   "execution_count": 121,
   "metadata": {},
   "outputs": [
    {
     "data": {
      "text/plain": [
       "0.31702774309820325"
      ]
     },
     "execution_count": 121,
     "metadata": {},
     "output_type": "execute_result"
    }
   ],
   "source": [
    "pred= xg_reg.predict(X_test)\n",
    "rmse = np.sqrt(mean_squared_error(y_test, pred))\n",
    "# pred\n",
    "rmse"
   ]
  },
  {
   "cell_type": "code",
   "execution_count": 46,
   "metadata": {},
   "outputs": [],
   "source": [
    "from sklearn.linear_model import Ridge, RidgeCV, ElasticNet, LassoCV, LassoLarsCV\n",
    "from sklearn.model_selection import cross_val_score\n",
    "def rmse_cv(model):\n",
    "    rmse= np.sqrt(-cross_val_score(model, X_train, y_train, scoring=\"neg_mean_squared_error\", cv = 5))\n",
    "    return(rmse)"
   ]
  },
  {
   "cell_type": "code",
   "execution_count": 397,
   "metadata": {},
   "outputs": [],
   "source": [
    "# rmse_cv(xg_reg).mean() "
   ]
  },
  {
   "cell_type": "code",
   "execution_count": 111,
   "metadata": {},
   "outputs": [
    {
     "data": {
      "text/plain": [
       "OrderedDict([('metrostotales', 3599),\n",
       "             ('metroscubiertos', 3022),\n",
       "             ('metros', 2827),\n",
       "             ('antiguedad', 2251),\n",
       "             ('habitaciones', 1181),\n",
       "             ('banos', 937),\n",
       "             ('garages', 613),\n",
       "             ('tipodepropiedad_4', 550),\n",
       "             ('provincia_1', 548),\n",
       "             ('ciudad_6', 546),\n",
       "             ('provincia_3', 536),\n",
       "             ('ciudad_5', 524),\n",
       "             ('fh2', 521),\n",
       "             ('provincia_4', 511),\n",
       "             ('ciudad_8', 473),\n",
       "             ('provincia_2', 469),\n",
       "             ('provincia_5', 464),\n",
       "             ('ciudad_4', 435),\n",
       "             ('fh1', 434),\n",
       "             ('ciudad_9', 425),\n",
       "             ('fh5', 418),\n",
       "             ('ciudad_7', 393),\n",
       "             ('ciudad_10', 390),\n",
       "             ('tipodepropiedad_3', 380),\n",
       "             ('fh15', 338),\n",
       "             ('centroscomercialescercanos', 330),\n",
       "             ('fh7', 325),\n",
       "             ('fh18', 316),\n",
       "             ('ciudad_3', 307),\n",
       "             ('fh12', 285),\n",
       "             ('fh4', 279),\n",
       "             ('fh3', 279),\n",
       "             ('tipodepropiedad_2', 275),\n",
       "             ('fh17', 274),\n",
       "             ('tipodepropiedad_5', 268),\n",
       "             ('escuelascercanas', 252),\n",
       "             ('fh11', 219),\n",
       "             ('fh20', 216),\n",
       "             ('fh16', 212),\n",
       "             ('fh10', 207),\n",
       "             ('fh14', 205),\n",
       "             ('fh6', 195),\n",
       "             ('piscina', 194),\n",
       "             ('fh13', 194),\n",
       "             ('fh19', 189),\n",
       "             ('fh8', 182),\n",
       "             ('tipodepropiedad_1', 137),\n",
       "             ('fh9', 133),\n",
       "             ('ciudad_2', 124),\n",
       "             ('gimnasio', 121),\n",
       "             ('ciudad_1', 116),\n",
       "             ('usosmultiples', 84),\n",
       "             ('provincia_0', 18)])"
      ]
     },
     "execution_count": 111,
     "metadata": {},
     "output_type": "execute_result"
    }
   ],
   "source": [
    "OrderedDict(sorted(xg_reg.get_booster().get_fscore().items(), key=lambda t: t[1], reverse=True))"
   ]
  },
  {
   "cell_type": "code",
   "execution_count": 112,
   "metadata": {},
   "outputs": [
    {
     "name": "stderr",
     "output_type": "stream",
     "text": [
      "/Library/Frameworks/Python.framework/Versions/3.7/lib/python3.7/site-packages/xgboost/core.py:587: FutureWarning: Series.base is deprecated and will be removed in a future version\n",
      "  if getattr(data, 'base', None) is not None and \\\n",
      "/Library/Frameworks/Python.framework/Versions/3.7/lib/python3.7/site-packages/xgboost/core.py:588: FutureWarning: Series.base is deprecated and will be removed in a future version\n",
      "  data.base is not None and isinstance(data, np.ndarray) \\\n"
     ]
    },
    {
     "name": "stdout",
     "output_type": "stream",
     "text": [
      "[13:44:54] WARNING: src/objective/regression_obj.cu:152: reg:linear is now deprecated in favor of reg:squarederror.\n"
     ]
    },
    {
     "data": {
      "text/plain": [
       "XGBRegressor(base_score=0.5, booster='gbtree', colsample_bylevel=1,\n",
       "             colsample_bynode=1, colsample_bytree=0.8, gamma=0,\n",
       "             importance_type='gain', learning_rate=0.1, max_delta_step=0,\n",
       "             max_depth=5, min_child_weight=1, missing=None, n_estimators=1000,\n",
       "             n_jobs=1, nthread=6, objective='reg:linear', random_state=0,\n",
       "             reg_alpha=0, reg_lambda=1, scale_pos_weight=1, seed=27,\n",
       "             silent=None, subsample=0.8, verbosity=1)"
      ]
     },
     "execution_count": 112,
     "metadata": {},
     "output_type": "execute_result"
    }
   ],
   "source": [
    "xg_reg.fit(train[every_column_except_y], train['logpreciomt2'])"
   ]
  },
  {
   "cell_type": "code",
   "execution_count": 113,
   "metadata": {},
   "outputs": [
    {
     "name": "stderr",
     "output_type": "stream",
     "text": [
      "/Library/Frameworks/Python.framework/Versions/3.7/lib/python3.7/site-packages/pandas/core/indexing.py:376: SettingWithCopyWarning: \n",
      "A value is trying to be set on a copy of a slice from a DataFrame.\n",
      "Try using .loc[row_indexer,col_indexer] = value instead\n",
      "\n",
      "See the caveats in the documentation: http://pandas.pydata.org/pandas-docs/stable/user_guide/indexing.html#returning-a-view-versus-a-copy\n",
      "  self.obj[key] = _infer_fill_value(value)\n",
      "/Library/Frameworks/Python.framework/Versions/3.7/lib/python3.7/site-packages/pandas/core/indexing.py:494: SettingWithCopyWarning: \n",
      "A value is trying to be set on a copy of a slice from a DataFrame.\n",
      "Try using .loc[row_indexer,col_indexer] = value instead\n",
      "\n",
      "See the caveats in the documentation: http://pandas.pydata.org/pandas-docs/stable/user_guide/indexing.html#returning-a-view-versus-a-copy\n",
      "  self.obj[item] = s\n"
     ]
    }
   ],
   "source": [
    "pred = xg_reg.predict(test[every_column_except_y])\n",
    "final = test[['id']]\n",
    "final.loc[:, 'target'] = test.metros * np.expm1(pred)\n",
    "final.set_index('id').to_csv('../prediction_xgboost.csv')"
   ]
  },
  {
   "cell_type": "code",
   "execution_count": null,
   "metadata": {},
   "outputs": [],
   "source": []
  }
 ],
 "metadata": {
  "kernelspec": {
   "display_name": "Python 3",
   "language": "python",
   "name": "python3"
  },
  "language_info": {
   "codemirror_mode": {
    "name": "ipython",
    "version": 3
   },
   "file_extension": ".py",
   "mimetype": "text/x-python",
   "name": "python",
   "nbconvert_exporter": "python",
   "pygments_lexer": "ipython3",
   "version": "3.7.2"
  }
 },
 "nbformat": 4,
 "nbformat_minor": 2
}
