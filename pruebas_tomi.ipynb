{
 "cells": [
  {
   "cell_type": "code",
   "execution_count": 429,
   "metadata": {},
   "outputs": [],
   "source": [
    "import numpy as np\n",
    "import matplotlib.pyplot as plt\n",
    "import pandas as pd\n",
    "import numpy\n",
    "import seaborn as sns\n",
    "from sklearn.model_selection import train_test_split\n",
    "from sklearn.preprocessing import StandardScaler\n",
    "from sklearn.neighbors import KNeighborsClassifier\n",
    "# Importamos utilidades y modelos de sklearn\n",
    "from sklearn.preprocessing import Imputer\n",
    "from sklearn.model_selection import train_test_split\n",
    "from sklearn.dummy import DummyRegressor\n",
    "from sklearn.pipeline import make_pipeline\n",
    "from sklearn.linear_model import LinearRegression\n",
    "from sklearn.linear_model import Ridge\n",
    "from sklearn.linear_model import BayesianRidge\n",
    "from sklearn.preprocessing import PolynomialFeatures\n",
    "from sklearn.tree import DecisionTreeRegressor"
   ]
  },
  {
   "cell_type": "code",
   "execution_count": 392,
   "metadata": {},
   "outputs": [],
   "source": [
    "# Métrica de evaluación\n",
    "def RMSLE(actual, pred):\n",
    "    return (np.mean((np.log(actual + 1) - np.log(pred + 1)) ** 2)) **.5\n",
    "\n",
    "def normailize_df(refDf, train):\n",
    "    df = refDf.copy()\n",
    "    df['año'] = df['fecha'].dt.year\n",
    "    df['antiguedad'] = df['antiguedad'] + (2016 - df['año']) # Se normaliza la antiguedad.\n",
    "    df.drop([\"direccion\", 'descripcion', 'lat', 'lng', 'fecha'], axis=1, inplace=True)\n",
    "    \n",
    "    nulltotales = df[df['metrostotales'].isnull()]\n",
    "    nullcubiertos = df[df['metroscubiertos'].isnull()]\n",
    "    notnullapart = df[(~ df['metrostotales'].isnull()) & (df['metrostotales'] < df['metroscubiertos'])]\n",
    "    notnullapart2 = df[(~ df['metrostotales'].isnull()) & (df['metrostotales'] > df['metroscubiertos'])]\n",
    "    notnullapart3 = df[(~ df['metrostotales'].isnull()) & (df['metrostotales'] == df['metroscubiertos'])]\n",
    " \n",
    "    df['habitable'] = False\n",
    "    tipodepropiedades = df.tipodepropiedad.cat.categories.to_list()\n",
    "    for tipodepropiedad in tipodepropiedades: \n",
    "\n",
    "        idsNullMetrosTotales = (df.tipodepropiedad == tipodepropiedad) & (df.metrostotales.isnull())\n",
    "        idsNullMetrosCubiertos = (df.tipodepropiedad == tipodepropiedad) & (df.metroscubiertos.isnull())\n",
    "        banos = df[df.tipodepropiedad == tipodepropiedad].banos.mode(dropna=False);\n",
    "        habitaciones = df[df.tipodepropiedad == tipodepropiedad].habitaciones.mode(dropna=False);\n",
    "\n",
    "        ## Verificamos si la cantidad de registros con metros cubiertos nulos es mayor a 2/5 de los totales. Si es asi \n",
    "        ## los consideramos propiedades no habitables. Y los tratamos de manera diferente\n",
    "        if(len(nullcubiertos[nullcubiertos.tipodepropiedad == tipodepropiedad]) >= 2/5* len(df[df.tipodepropiedad == tipodepropiedad])):\n",
    "            df.metrostotales.fillna(0, inplace=True)\n",
    "            df.metroscubiertos.fillna(0, inplace=True)\n",
    "        else:\n",
    "            df[idsNullMetrosTotales]['metrostotales'] =  df[idsNullMetrosTotales]['metroscubiertos']\n",
    "            df[idsNullMetrosCubiertos]['metroscubiertos'] =  df[idsNullMetrosCubiertos]['metrostotales']\n",
    "\n",
    "        #Si la moda del tipo de propiedad de banos y habitaciones son ambas distintas de nan entonces la propiedad es habitable.\n",
    "\n",
    "        df.loc[(df.tipodepropiedad == tipodepropiedad), 'habitable'] = not(numpy.isnan(banos[0]) and numpy.isnan(habitaciones[0]))\n",
    "    \n",
    "    df['metros'] = df['metrostotales'] + df['metroscubiertos']\n",
    "    if(train):\n",
    "        def is_outlier(group):\n",
    "            Q1 = group.quantile(0.25)\n",
    "            Q3 = group.quantile(0.75)\n",
    "            IQR = Q3 - Q1\n",
    "            precio_min = Q1 - 1.5 * IQR\n",
    "            precio_max = Q3 + 1.5 * IQR\n",
    "            return ~group.between(precio_min, precio_max)\n",
    "        df['precio_mt2'] = df['precio'] / df['metros']\n",
    "        print()\n",
    "        \n",
    "        df = df[~df.groupby('tipodepropiedad')['precio_mt2'].apply(is_outlier).fillna(False)]\n",
    "        print('Despues de filtrar: ', df.shape)\n",
    "    return df"
   ]
  },
  {
   "cell_type": "code",
   "execution_count": 440,
   "metadata": {},
   "outputs": [
    {
     "name": "stderr",
     "output_type": "stream",
     "text": [
      "/Library/Frameworks/Python.framework/Versions/3.7/lib/python3.7/site-packages/ipykernel_launcher.py:32: SettingWithCopyWarning: \n",
      "A value is trying to be set on a copy of a slice from a DataFrame.\n",
      "Try using .loc[row_indexer,col_indexer] = value instead\n",
      "\n",
      "See the caveats in the documentation: http://pandas.pydata.org/pandas-docs/stable/user_guide/indexing.html#returning-a-view-versus-a-copy\n",
      "/Library/Frameworks/Python.framework/Versions/3.7/lib/python3.7/site-packages/ipykernel_launcher.py:33: SettingWithCopyWarning: \n",
      "A value is trying to be set on a copy of a slice from a DataFrame.\n",
      "Try using .loc[row_indexer,col_indexer] = value instead\n",
      "\n",
      "See the caveats in the documentation: http://pandas.pydata.org/pandas-docs/stable/user_guide/indexing.html#returning-a-view-versus-a-copy\n"
     ]
    },
    {
     "name": "stdout",
     "output_type": "stream",
     "text": [
      "\n",
      "Despues de filtrar:  (223477, 21)\n"
     ]
    }
   ],
   "source": [
    "df_train = pd.read_csv('train.csv',\n",
    "        index_col='id',\n",
    "        dtype={'gimnasio': int,\n",
    "                'usosmultiples': int,\n",
    "                'escuelascercanas': int,\n",
    "                'piscina': int,\n",
    "                'centroscomercialescercanos': int,\n",
    "                'tipodepropiedad': 'category',\n",
    "                'provincia': 'category',\n",
    "                'ciudad': 'category'\n",
    "            },\n",
    "        parse_dates=['fecha'])\n",
    "df_test = pd.read_csv('test.csv',\n",
    "        index_col='id',\n",
    "        dtype={'gimnasio': int,\n",
    "                'usosmultiples': int,\n",
    "                'escuelascercanas': int,\n",
    "                'piscina': int,\n",
    "                'centroscomercialescercanos': int,\n",
    "                'tipodepropiedad': 'category',\n",
    "                'provincia': 'category',\n",
    "                'ciudad': 'category'\n",
    "            },\n",
    "        parse_dates=['fecha'])\n",
    "\n",
    "df_train = normailize_df(df_train, True)\n",
    "df_test = normailize_df(df_test, False)"
   ]
  },
  {
   "cell_type": "code",
   "execution_count": 441,
   "metadata": {},
   "outputs": [
    {
     "name": "stderr",
     "output_type": "stream",
     "text": [
      "/Library/Frameworks/Python.framework/Versions/3.7/lib/python3.7/site-packages/sklearn/utils/deprecation.py:66: DeprecationWarning: Class Imputer is deprecated; Imputer was deprecated in version 0.20 and will be removed in 0.22. Import impute.SimpleImputer from sklearn instead.\n",
      "  warnings.warn(msg, category=DeprecationWarning)\n"
     ]
    },
    {
     "data": {
      "text/html": [
       "<div>\n",
       "<style scoped>\n",
       "    .dataframe tbody tr th:only-of-type {\n",
       "        vertical-align: middle;\n",
       "    }\n",
       "\n",
       "    .dataframe tbody tr th {\n",
       "        vertical-align: top;\n",
       "    }\n",
       "\n",
       "    .dataframe thead th {\n",
       "        text-align: right;\n",
       "    }\n",
       "</style>\n",
       "<table border=\"1\" class=\"dataframe\">\n",
       "  <thead>\n",
       "    <tr style=\"text-align: right;\">\n",
       "      <th></th>\n",
       "      <th>titulo</th>\n",
       "      <th>tipodepropiedad</th>\n",
       "      <th>ciudad</th>\n",
       "      <th>provincia</th>\n",
       "      <th>antiguedad</th>\n",
       "      <th>habitaciones</th>\n",
       "      <th>garages</th>\n",
       "      <th>banos</th>\n",
       "      <th>metroscubiertos</th>\n",
       "      <th>metrostotales</th>\n",
       "      <th>idzona</th>\n",
       "      <th>gimnasio</th>\n",
       "      <th>usosmultiples</th>\n",
       "      <th>piscina</th>\n",
       "      <th>escuelascercanas</th>\n",
       "      <th>centroscomercialescercanos</th>\n",
       "      <th>año</th>\n",
       "      <th>habitable</th>\n",
       "      <th>metros</th>\n",
       "      <th>target</th>\n",
       "    </tr>\n",
       "    <tr>\n",
       "      <th>id</th>\n",
       "      <th></th>\n",
       "      <th></th>\n",
       "      <th></th>\n",
       "      <th></th>\n",
       "      <th></th>\n",
       "      <th></th>\n",
       "      <th></th>\n",
       "      <th></th>\n",
       "      <th></th>\n",
       "      <th></th>\n",
       "      <th></th>\n",
       "      <th></th>\n",
       "      <th></th>\n",
       "      <th></th>\n",
       "      <th></th>\n",
       "      <th></th>\n",
       "      <th></th>\n",
       "      <th></th>\n",
       "      <th></th>\n",
       "      <th></th>\n",
       "    </tr>\n",
       "  </thead>\n",
       "  <tbody>\n",
       "  </tbody>\n",
       "</table>\n",
       "</div>"
      ],
      "text/plain": [
       "Empty DataFrame\n",
       "Columns: [titulo, tipodepropiedad, ciudad, provincia, antiguedad, habitaciones, garages, banos, metroscubiertos, metrostotales, idzona, gimnasio, usosmultiples, piscina, escuelascercanas, centroscomercialescercanos, año, habitable, metros, target]\n",
       "Index: []"
      ]
     },
     "execution_count": 441,
     "metadata": {},
     "output_type": "execute_result"
    }
   ],
   "source": [
    "\n",
    "df_train['metros'] = df_train['metrostotales'] + df_train['metroscubiertos']\n",
    "df_test['metros'] = df_test['metrostotales'] + df_test['metroscubiertos']\n",
    "\n",
    "\n",
    "tipodepropiedades = df_train.tipodepropiedad.cat.categories.to_list()\n",
    "\n",
    "\n",
    "def predict_by_prop(idsTrainFil, idsTestFil): \n",
    "    for tipodepropiedad in tipodepropiedades: \n",
    "        #Solo las propiedades que queremos\n",
    "        idsTrain = (df_train.tipodepropiedad == tipodepropiedad) & idsTrainFil\n",
    "        idsTest = (df_test.tipodepropiedad == tipodepropiedad) & idsTestFil\n",
    "        trainDf = df_train[idsTrain].groupby(['antiguedad']).agg(precio_mt2=('precio_mt2', 'median')).reset_index()\n",
    "\n",
    "        X = trainDf[['antiguedad']]\n",
    "        y = trainDf['precio_mt2']\n",
    "#         print('------', tipodepropiedad)\n",
    "#         print(X.shape, len(y))\n",
    "        if(len(y) == 0 or len(df_test[idsTest][['antiguedad']]) == 0): \n",
    "            continue\n",
    "        if(len(y) == 1):\n",
    "    #         print(        df_test[df_test.tipodepropiedad == tipodepropiedad, 'target'])\n",
    "            df_test.loc[df_test.tipodepropiedad == tipodepropiedad, 'target'] = y.to_list()[0]\n",
    "            continue\n",
    "\n",
    "#         linear_model = Ridge(alpha=0.5).fit(X, y)\n",
    "        linear_model = make_pipeline(PolynomialFeatures(degree=3), Ridge())\n",
    "        linear_model.fit(X, y)\n",
    "\n",
    "        pred = linear_model.predict(df_test[idsTest][['antiguedad']])\n",
    "\n",
    "        df_test.loc[idsTest, 'target'] = pred\n",
    "\n",
    "        \n",
    "\n",
    "imp = Imputer(strategy='most_frequent')\n",
    "df_train['antiguedad'] = imp.fit_transform(df_train[['antiguedad']])        \n",
    "df_test['antiguedad'] = imp.transform(df_test[['antiguedad']])\n",
    "\n",
    "dfAntiguedadMenor10Train = (df_train[\"antiguedad\"] < 10)\n",
    "dfAntiguedadMenor10Test = (df_test[\"antiguedad\"] < 10)\n",
    "\n",
    "dfAntiguedadMayor10Train = (df_train[\"antiguedad\"] >= 10) & (df_train[\"antiguedad\"] < 40)\n",
    "dfAntiguedadMayor10Test = (df_test[\"antiguedad\"] >= 10) & (df_test[\"antiguedad\"] < 40)\n",
    "\n",
    "dfAntiguedadMayor40Train = (df_train[\"antiguedad\"] >= 40)\n",
    "dfAntiguedadMayor40Test = (df_test[\"antiguedad\"] >= 40)\n",
    "\n",
    "predict_by_prop(dfAntiguedadMenor10Train, dfAntiguedadMenor10Test)\n",
    "\n",
    "predict_by_prop(dfAntiguedadMayor10Train, dfAntiguedadMayor10Test)\n",
    "\n",
    "predict_by_prop(dfAntiguedadMayor40Train, dfAntiguedadMayor40Test)\n",
    "\n",
    "\n",
    "df_test.loc[df_test.target.isnull(), 'target'] = df_test['target'].median()\n",
    "df_test['target'] = df_test['target'] *  df_test['metros']\n",
    "final_prediction = df_test.copy().drop(df_test.columns.difference(['target']), 1)\n",
    "# # print()\n",
    "final_prediction.to_csv('prediction.csv')\n",
    "df_test[df_test['target'].isnull()]\n",
    "\n"
   ]
  },
  {
   "cell_type": "code",
   "execution_count": 443,
   "metadata": {},
   "outputs": [
    {
     "name": "stdout",
     "output_type": "stream",
     "text": [
      "(151879, 21)\n"
     ]
    },
    {
     "data": {
      "text/plain": [
       "Text(0.5, 1.05, 'Regresión del costo m2 según tipo de propiedad en base a la antigüedad \\n (Ultimos 10 años)')"
      ]
     },
     "execution_count": 443,
     "metadata": {},
     "output_type": "execute_result"
    },
    {
     "data": {
      "image/png": "[encoded data removed]",
      "text/plain": [
       "<Figure size 713.125x576 with 1 Axes>"
      ]
     },
     "metadata": {
      "needs_background": "light"
     },
     "output_type": "display_data"
    }
   ],
   "source": [
    "habitables = ['Casa', 'Casa en condominio', 'Apartamento', 'Local Comercial']\n",
    "dfAntiguedad = df_train[(~ df_train[\"antiguedad\"].isnull()) & (df_train[\"antiguedad\"] <= 10) & (df_train[\"tipodepropiedad\"].isin(habitables)) ]\n",
    "print(dfAntiguedad.shape)\n",
    "# dfAntiguedad.tipodepropiedad.value_counts()\n",
    "dfAntiguedad['tipodepropiedad'].cat.remove_unused_categories(inplace=True)\n",
    "dfAntiguedad = dfAntiguedad.groupby(['antiguedad', 'tipodepropiedad']).agg(prom_precio_mt2=('precio_mt2', 'mean')).reset_index()\n",
    "\n",
    "\n",
    "ax = sns.lmplot(x=\"antiguedad\", y=\"prom_precio_mt2\", data=dfAntiguedad, hue=\"tipodepropiedad\", height=8, order=1);\n",
    "\n",
    "ax.set(xlabel='Antigüedad', ylabel='Precio m2')\n",
    "\n",
    "new_title = 'Tipo de propiedad'\n",
    "ax._legend.set_title(new_title)\n",
    "ax.fig.suptitle('Regresión del costo m2 según tipo de propiedad en base a la antigüedad \\n (Ultimos 10 años)', y= 1.05)\n"
   ]
  },
  {
   "cell_type": "code",
   "execution_count": 442,
   "metadata": {},
   "outputs": [
    {
     "name": "stderr",
     "output_type": "stream",
     "text": [
      "/Library/Frameworks/Python.framework/Versions/3.7/lib/python3.7/site-packages/sklearn/utils/deprecation.py:66: DeprecationWarning: Class Imputer is deprecated; Imputer was deprecated in version 0.20 and will be removed in 0.22. Import impute.SimpleImputer from sklearn instead.\n",
      "  warnings.warn(msg, category=DeprecationWarning)\n"
     ]
    },
    {
     "name": "stdout",
     "output_type": "stream",
     "text": [
      "RMSLE Linear Regression (train): 0.52455\n"
     ]
    }
   ],
   "source": [
    "tipodepropiedades = df_train.tipodepropiedad.cat.categories.to_list()\n",
    "\n",
    "df_test2 = df_train.copy()\n",
    "\n",
    "def predict_by_prop(idsTrainFil, idsTestFil): \n",
    "    for tipodepropiedad in tipodepropiedades: \n",
    "        #Solo las propiedades que queremos\n",
    "        idsTrain = (df_train.tipodepropiedad == tipodepropiedad) & idsTrainFil\n",
    "        idsTest = (df_test2.tipodepropiedad == tipodepropiedad) & idsTestFil\n",
    "        trainDf = df_train[idsTrain].groupby(['antiguedad']).agg(precio_mt2=('precio_mt2', 'median')).reset_index()\n",
    "\n",
    "        X = trainDf[['antiguedad']]\n",
    "        y = trainDf['precio_mt2']\n",
    "#         print('------', tipodepropiedad)\n",
    "#         print(X.shape, len(y))\n",
    "        if(len(y) == 0 or len(df_test2[idsTest][['antiguedad']]) == 0): \n",
    "            continue\n",
    "        if(len(y) == 1):\n",
    "    #         print(        df_test[df_test.tipodepropiedad == tipodepropiedad, 'target'])\n",
    "            df_test2.loc[df_test2.tipodepropiedad == tipodepropiedad, 'target'] = y.to_list()[0]\n",
    "            continue\n",
    "\n",
    "#         linear_model = Ridge(alpha=0.5).fit(X, y)\n",
    "        linear_model = make_pipeline(PolynomialFeatures(degree=3), Ridge())\n",
    "        linear_model.fit(X, y)\n",
    "\n",
    "        pred = linear_model.predict(df_test2[idsTest][['antiguedad']])\n",
    "\n",
    "        df_test2.loc[idsTest, 'target'] = pred\n",
    "\n",
    "\n",
    "imp = Imputer(strategy='most_frequent')\n",
    "df_train['antiguedad'] = imp.fit_transform(df_train[['antiguedad']])        \n",
    "df_test2['antiguedad'] = imp.transform(df_train[['antiguedad']])\n",
    "\n",
    "dfAntiguedadMenor10Train = (df_train[\"antiguedad\"] < 10)\n",
    "dfAntiguedadMenor10Test = (df_test2[\"antiguedad\"] < 10)\n",
    "\n",
    "dfAntiguedadMayor10Train = (df_train[\"antiguedad\"] >= 10) & (df_train[\"antiguedad\"] < 40)\n",
    "dfAntiguedadMayor10Test = (df_test2[\"antiguedad\"] >= 10) & (df_test2[\"antiguedad\"] < 40)\n",
    "\n",
    "dfAntiguedadMayor40Train = (df_train[\"antiguedad\"].isnull())\n",
    "dfAntiguedadMayor40Test = (df_test2[\"antiguedad\"].isnull()) | (df_test2[\"antiguedad\"] >= 40)\n",
    "\n",
    "predict_by_prop(dfAntiguedadMenor10Train, dfAntiguedadMenor10Test)\n",
    "\n",
    "predict_by_prop(dfAntiguedadMayor10Train, dfAntiguedadMayor10Test)\n",
    "\n",
    "predict_by_prop(dfAntiguedadMayor40Train, dfAntiguedadMayor40Test)\n",
    "\n",
    "linear_rmsle_train = RMSLE(df_train['precio_mt2'], df_test2['target'])\n",
    "print(f\"RMSLE Linear Regression (train): {linear_rmsle_train:.5f}\")\n"
   ]
  },
  {
   "cell_type": "code",
   "execution_count": null,
   "metadata": {},
   "outputs": [],
   "source": []
  }
 ],
 "metadata": {
  "kernelspec": {
   "display_name": "Python 3",
   "language": "python",
   "name": "python3"
  },
  "language_info": {
   "codemirror_mode": {
    "name": "ipython",
    "version": 3
   },
   "file_extension": ".py",
   "mimetype": "text/x-python",
   "name": "python",
   "nbconvert_exporter": "python",
   "pygments_lexer": "ipython3",
   "version": "3.7.2"
  }
 },
 "nbformat": 4,
 "nbformat_minor": 2
}
