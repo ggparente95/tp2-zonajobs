{
 "cells": [
  {
   "cell_type": "code",
   "execution_count": 9,
   "metadata": {},
   "outputs": [],
   "source": [
    "import pandas as pd\n",
    "import numpy as np\n",
    "import seaborn as sns\n",
    "import matplotlib\n",
    "import numpy\n",
    "import matplotlib.pyplot as plt\n",
    "from scipy.stats import skew\n",
    "from scipy.stats.stats import pearsonr\n",
    "import xgboost as xgb\n",
    "from sklearn.metrics import mean_squared_error\n",
    "from collections import OrderedDict\n",
    "\n",
    "# %config InlineBackend.figure_format = 'retina' #set 'png' here when working on notebook\n",
    "# %matplotlib inline"
   ]
  },
  {
   "cell_type": "code",
   "execution_count": 10,
   "metadata": {},
   "outputs": [],
   "source": [
    "# Se usaran los sets normalizados bajo columnas SOLAMENTE.\n",
    "train = pd.read_csv('../normalized_train.csv')\n",
    "test = pd.read_csv('../normalized_test.csv')\n",
    "\n",
    "# Casteamos todo a int, esto es porque XgBoost dio problemas usando el set de datos con los datos heredados.\n",
    "const = ['antiguedad', 'banos', 'garages', 'metroscubiertos', 'metrostotales', 'metros']\n",
    "every_column_except_y= [col for col in train.columns if col not in ['preciomt2', 'precio','id', 'logpreciomt2', 'fecha', 'descripcion', 'titulo', 'logprecio']]\n",
    "columns = [col for col in train[every_column_except_y].columns if col not in const]\n",
    "# columns\n",
    "train.loc[:, columns] = train[columns].fillna(0)\n",
    "for column in columns:\n",
    "    train[column] = train[column].astype('int32')\n",
    "\n"
   ]
  },
  {
   "cell_type": "code",
   "execution_count": 3,
   "metadata": {},
   "outputs": [
    {
     "data": {
      "text/plain": [
       "antiguedad                    float64\n",
       "banos                         float64\n",
       "centroscomercialescercanos      int32\n",
       "ciudad_0                        int32\n",
       "ciudad_1                        int32\n",
       "ciudad_2                        int32\n",
       "ciudad_3                        int32\n",
       "ciudad_4                        int32\n",
       "ciudad_5                        int32\n",
       "ciudad_6                        int32\n",
       "ciudad_7                        int32\n",
       "ciudad_8                        int32\n",
       "ciudad_9                        int32\n",
       "ciudad_10                       int32\n",
       "escuelascercanas                int32\n",
       "garages                       float64\n",
       "gimnasio                        int32\n",
       "habitaciones                    int32\n",
       "metroscubiertos               float64\n",
       "metrostotales                 float64\n",
       "piscina                         int32\n",
       "provincia_0                     int32\n",
       "provincia_1                     int32\n",
       "provincia_2                     int32\n",
       "provincia_3                     int32\n",
       "provincia_4                     int32\n",
       "provincia_5                     int32\n",
       "tipodepropiedad_0               int32\n",
       "tipodepropiedad_1               int32\n",
       "tipodepropiedad_2               int32\n",
       "tipodepropiedad_3               int32\n",
       "tipodepropiedad_4               int32\n",
       "tipodepropiedad_5               int32\n",
       "usosmultiples                   int32\n",
       "metros                        float64\n",
       "dtype: object"
      ]
     },
     "execution_count": 3,
     "metadata": {},
     "output_type": "execute_result"
    }
   ],
   "source": [
    "train[every_column_except_y].dtypes"
   ]
  },
  {
   "cell_type": "code",
   "execution_count": 15,
   "metadata": {},
   "outputs": [],
   "source": [
    "from sklearn.model_selection import train_test_split\n",
    "\n",
    "# Generamos el modelo y un set de test para tener alguna metrica\n",
    "xg_reg = xgb.XGBRegressor(learning_rate =0.1, n_estimators=1000, max_depth=5,gamma=0, subsample=0.8, colsample_bytree=0.8, nthread=6, scale_pos_weight=1, seed=27)\n",
    "every_column_except_y= [col for col in train.columns if col not in ['preciomt2', 'precio','id', 'logpreciomt2', 'fecha', 'descripcion', 'titulo', 'logprecio']]\n",
    "\n",
    "X, y = train.loc[:,every_column_except_y], train['logprecio']\n",
    "X_train, X_test, y_train, y_test = train_test_split(X, y, test_size=0.2, random_state=123)"
   ]
  },
  {
   "cell_type": "code",
   "execution_count": 16,
   "metadata": {},
   "outputs": [
    {
     "name": "stderr",
     "output_type": "stream",
     "text": [
      "/Library/Frameworks/Python.framework/Versions/3.7/lib/python3.7/site-packages/xgboost/core.py:587: FutureWarning: Series.base is deprecated and will be removed in a future version\n",
      "  if getattr(data, 'base', None) is not None and \\\n"
     ]
    },
    {
     "name": "stdout",
     "output_type": "stream",
     "text": [
      "[23:40:18] WARNING: src/objective/regression_obj.cu:152: reg:linear is now deprecated in favor of reg:squarederror.\n"
     ]
    },
    {
     "data": {
      "text/plain": [
       "XGBRegressor(base_score=0.5, booster='gbtree', colsample_bylevel=1,\n",
       "             colsample_bynode=1, colsample_bytree=0.8, gamma=0,\n",
       "             importance_type='gain', learning_rate=0.1, max_delta_step=0,\n",
       "             max_depth=5, min_child_weight=1, missing=None, n_estimators=1000,\n",
       "             n_jobs=1, nthread=6, objective='reg:linear', random_state=0,\n",
       "             reg_alpha=0, reg_lambda=1, scale_pos_weight=1, seed=27,\n",
       "             silent=None, subsample=0.8, verbosity=1)"
      ]
     },
     "execution_count": 16,
     "metadata": {},
     "output_type": "execute_result"
    }
   ],
   "source": [
    "# Entrenamos\n",
    "xg_reg.fit(X_train,y_train)\n"
   ]
  },
  {
   "cell_type": "code",
   "execution_count": 17,
   "metadata": {},
   "outputs": [
    {
     "data": {
      "text/plain": [
       "0.36577869197944557"
      ]
     },
     "execution_count": 17,
     "metadata": {},
     "output_type": "execute_result"
    }
   ],
   "source": [
    "#Predecimos y vemos el error.\n",
    "pred= xg_reg.predict(X_test)\n",
    "rmse = np.sqrt(mean_squared_error(y_test, pred))\n",
    "# pred\n",
    "rmse"
   ]
  },
  {
   "cell_type": "code",
   "execution_count": 46,
   "metadata": {},
   "outputs": [],
   "source": [
    "from sklearn.model_selection import cross_val_score\n",
    "def rmse_cv(model):\n",
    "    rmse= np.sqrt(-cross_val_score(model, X_train, y_train, scoring=\"neg_mean_squared_error\", cv = 5))\n",
    "    return(rmse)"
   ]
  },
  {
   "cell_type": "code",
   "execution_count": 397,
   "metadata": {},
   "outputs": [],
   "source": [
    "# rmse_cv(xg_reg).mean() "
   ]
  },
  {
   "cell_type": "code",
   "execution_count": 8,
   "metadata": {},
   "outputs": [
    {
     "data": {
      "text/plain": [
       "OrderedDict([('metroscubiertos', 3513),\n",
       "             ('antiguedad', 3359),\n",
       "             ('metros', 3215),\n",
       "             ('metrostotales', 1814),\n",
       "             ('habitaciones', 1673),\n",
       "             ('banos', 1552),\n",
       "             ('garages', 1023),\n",
       "             ('ciudad_6', 839),\n",
       "             ('provincia_4', 817),\n",
       "             ('provincia_3', 796),\n",
       "             ('ciudad_9', 769),\n",
       "             ('ciudad_5', 751),\n",
       "             ('provincia_2', 750),\n",
       "             ('ciudad_7', 749),\n",
       "             ('ciudad_8', 749),\n",
       "             ('tipodepropiedad_4', 738),\n",
       "             ('ciudad_10', 734),\n",
       "             ('provincia_1', 728),\n",
       "             ('ciudad_4', 720),\n",
       "             ('provincia_5', 707),\n",
       "             ('ciudad_3', 548),\n",
       "             ('centroscomercialescercanos', 425),\n",
       "             ('tipodepropiedad_5', 409),\n",
       "             ('tipodepropiedad_3', 407),\n",
       "             ('escuelascercanas', 378),\n",
       "             ('tipodepropiedad_2', 368),\n",
       "             ('piscina', 312),\n",
       "             ('ciudad_2', 290),\n",
       "             ('ciudad_1', 215),\n",
       "             ('tipodepropiedad_1', 189),\n",
       "             ('gimnasio', 186),\n",
       "             ('usosmultiples', 158),\n",
       "             ('provincia_0', 32)])"
      ]
     },
     "execution_count": 8,
     "metadata": {},
     "output_type": "execute_result"
    }
   ],
   "source": [
    "#Vemos cuales son los features que sumaron mas al XgBoost\n",
    "OrderedDict(sorted(xg_reg.get_booster().get_fscore().items(), key=lambda t: t[1], reverse=True))"
   ]
  },
  {
   "cell_type": "code",
   "execution_count": 112,
   "metadata": {},
   "outputs": [
    {
     "name": "stderr",
     "output_type": "stream",
     "text": [
      "/Library/Frameworks/Python.framework/Versions/3.7/lib/python3.7/site-packages/xgboost/core.py:587: FutureWarning: Series.base is deprecated and will be removed in a future version\n",
      "  if getattr(data, 'base', None) is not None and \\\n",
      "/Library/Frameworks/Python.framework/Versions/3.7/lib/python3.7/site-packages/xgboost/core.py:588: FutureWarning: Series.base is deprecated and will be removed in a future version\n",
      "  data.base is not None and isinstance(data, np.ndarray) \\\n"
     ]
    },
    {
     "name": "stdout",
     "output_type": "stream",
     "text": [
      "[13:44:54] WARNING: src/objective/regression_obj.cu:152: reg:linear is now deprecated in favor of reg:squarederror.\n"
     ]
    },
    {
     "data": {
      "text/plain": [
       "XGBRegressor(base_score=0.5, booster='gbtree', colsample_bylevel=1,\n",
       "             colsample_bynode=1, colsample_bytree=0.8, gamma=0,\n",
       "             importance_type='gain', learning_rate=0.1, max_delta_step=0,\n",
       "             max_depth=5, min_child_weight=1, missing=None, n_estimators=1000,\n",
       "             n_jobs=1, nthread=6, objective='reg:linear', random_state=0,\n",
       "             reg_alpha=0, reg_lambda=1, scale_pos_weight=1, seed=27,\n",
       "             silent=None, subsample=0.8, verbosity=1)"
      ]
     },
     "execution_count": 112,
     "metadata": {},
     "output_type": "execute_result"
    }
   ],
   "source": [
    "#Entrenamos con el dataset entero\n",
    "xg_reg.fit(train[every_column_except_y], train['logpreciomt2'])"
   ]
  },
  {
   "cell_type": "code",
   "execution_count": 113,
   "metadata": {},
   "outputs": [
    {
     "name": "stderr",
     "output_type": "stream",
     "text": [
      "/Library/Frameworks/Python.framework/Versions/3.7/lib/python3.7/site-packages/pandas/core/indexing.py:376: SettingWithCopyWarning: \n",
      "A value is trying to be set on a copy of a slice from a DataFrame.\n",
      "Try using .loc[row_indexer,col_indexer] = value instead\n",
      "\n",
      "See the caveats in the documentation: http://pandas.pydata.org/pandas-docs/stable/user_guide/indexing.html#returning-a-view-versus-a-copy\n",
      "  self.obj[key] = _infer_fill_value(value)\n",
      "/Library/Frameworks/Python.framework/Versions/3.7/lib/python3.7/site-packages/pandas/core/indexing.py:494: SettingWithCopyWarning: \n",
      "A value is trying to be set on a copy of a slice from a DataFrame.\n",
      "Try using .loc[row_indexer,col_indexer] = value instead\n",
      "\n",
      "See the caveats in the documentation: http://pandas.pydata.org/pandas-docs/stable/user_guide/indexing.html#returning-a-view-versus-a-copy\n",
      "  self.obj[item] = s\n"
     ]
    }
   ],
   "source": [
    "#Predecimos y guardamos\n",
    "pred = xg_reg.predict(test[every_column_except_y])\n",
    "final = test[['id']]\n",
    "final.loc[:, 'target'] = test.metros * np.expm1(pred)\n",
    "final.set_index('id').to_csv('../prediction_xgboost.csv')"
   ]
  },
  {
   "cell_type": "code",
   "execution_count": null,
   "metadata": {},
   "outputs": [],
   "source": []
  }
 ],
 "metadata": {
  "kernelspec": {
   "display_name": "Python 3",
   "language": "python",
   "name": "python3"
  },
  "language_info": {
   "codemirror_mode": {
    "name": "ipython",
    "version": 3
   },
   "file_extension": ".py",
   "mimetype": "text/x-python",
   "name": "python",
   "nbconvert_exporter": "python",
   "pygments_lexer": "ipython3",
   "version": "3.7.2"
  }
 },
 "nbformat": 4,
 "nbformat_minor": 2
}
